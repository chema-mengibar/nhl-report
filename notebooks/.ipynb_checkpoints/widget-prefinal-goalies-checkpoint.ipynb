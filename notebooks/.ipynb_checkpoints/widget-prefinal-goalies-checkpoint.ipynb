{
 "cells": [
  {
   "cell_type": "code",
   "execution_count": 6,
   "id": "548b916e",
   "metadata": {},
   "outputs": [],
   "source": [
    "import json\n",
    "%run lib.ipynb"
   ]
  },
  {
   "cell_type": "code",
   "execution_count": 7,
   "id": "284f9540",
   "metadata": {},
   "outputs": [],
   "source": [
    "panthers_games = [\n",
    "    \"5bb5e41f-ddeb-4f62-81d0-6838a2566e35\",\n",
    "    \"702a554f-67c6-4628-b468-48c9a642d8ef\", \n",
    "    \"dda2b533-c6c2-4c6a-b9c0-5eb3f13e153d\",\n",
    "    \"e30237bc-de0c-46c6-9a34-ba26d4d4722e\",\n",
    "    \"506c3ccd-61c1-4170-b19f-751e6ccae992\",\n",
    "    \"4909deea-74b0-4604-973b-530a671ac0d6\",\n",
    "    \"3b4636af-c8af-4264-94ba-8b9db910ff0c\",\n",
    "    \"ed7ab7d8-b51c-4cc5-9f8f-07efd0c3e39d\",\n",
    "    \"cdeade2b-fc13-4014-8b3f-f3384e1a739c\",\n",
    "    \"e1c9e7c1-64a8-45a7-aba8-e114df0b0ac6\",\n",
    "    \"f55669b2-ed64-44f9-98a2-ac20d1512638\",\n",
    "    \"18d15999-4095-4262-976e-4d2d985099d4\",\n",
    "    \"3373015e-ad83-4cfd-9468-728f91827a60\",\n",
    "    \"04a92a0a-5155-4eca-beea-43745e27644c\",\n",
    "    \"02501726-a798-4455-a583-f32dcfdae98c\",\n",
    "    \"68db71ad-614a-4c27-870e-4244d6ab68a9\",\n",
    "    \"276ea83a-9779-4e01-9c74-019f29a9e1b5\"  \n",
    "]"
   ]
  },
  {
   "cell_type": "code",
   "execution_count": 8,
   "id": "0e9ae452",
   "metadata": {},
   "outputs": [],
   "source": [
    "oilers_games = [\n",
    "    \"0a5929c0-3ee0-4cdd-83e9-853130a3baf5\",\n",
    "    \"3a2dd324-e165-405d-9480-b6a9742aef68\",\n",
    "    \"972395a5-5a16-4663-ab4b-e40af7deea7e\",\n",
    "    \"a667aa25-7b52-454f-a6ee-569aa436f70d\",\n",
    "    \"5c492b5b-20df-4307-896d-69223c1d6f1e\",\n",
    "    \"267c3ef4-e49a-463c-9eb6-eb2523fbc4aa\",\n",
    "    \"d8faeb20-b615-4f7e-ad1a-242f26a04528\",\n",
    "    \"00e153e0-e13d-4cd8-896f-e1c848c4febc\",\n",
    "    \"5997930f-3819-4935-bd1d-a72af9197285\",\n",
    "    \"97f90c91-347d-4e2b-bff2-b95d5d75d9d0\",\n",
    "    \"e7d9a52b-34bb-4ddd-a636-a79a3c3601f5\",\n",
    "    \"7ddc653f-b5c4-44fe-8cf3-2e24ba0da941\",\n",
    "    \"ee1ec51e-bbce-44ee-973e-2975b102751b\",\n",
    "    \"06b5f401-20ea-4c4b-9290-1d0a6fb02507\",\n",
    "    \"34046c33-1419-45d7-9b73-90938559cb48\",\n",
    "    \"413282bc-8ff9-4e7b-8e9c-d787f403f2dc\",\n",
    "    \"640c3761-b0a8-4c97-a0cf-821d13b37d6a\",\n",
    "    \"6b65a1f3-bcff-4697-adc6-87aded4dce34\",\n",
    "]"
   ]
  },
  {
   "cell_type": "code",
   "execution_count": 181,
   "id": "44e6a00a",
   "metadata": {},
   "outputs": [],
   "source": [
    "report = {\n",
    "    'Panthers': {},\n",
    "    'Oilers': {}\n",
    "}\n",
    "\n",
    "def parseGame(gameData):\n",
    "    for _period in gameData.periods:\n",
    "        for _event in _period.events:\n",
    "    \n",
    "            team = ''\n",
    "            player = None\n",
    "            action_area = ''\n",
    "            eventReportObj = None\n",
    "            add_to_log = False\n",
    "            \n",
    "            if not hasattr(_event, 'attribution'):\n",
    "                continue\n",
    "            \n",
    "            team = _event.attribution.name\n",
    "\n",
    "            if team == 'Oilers' or team == 'Panthers':\n",
    "                continue\n",
    "                \n",
    "               \n",
    "            if hasattr(_event,'location'):\n",
    "                 if hasattr(_event.location,'action_area'):\n",
    "                    action_area = _event.location.action_area \n",
    "            \n",
    "            is_powerplay = False\n",
    "            \n",
    "            \n",
    "            # STEP TYPE: shotsaved\n",
    "            if _event.event_type == \"shotsaved\":\n",
    "                for _statistic in _event.statistics:\n",
    "                    if _statistic.type == 'shotagainst':\n",
    "                            player = _statistic.player.full_name\n",
    "                            is_powerplay = _statistic.strength == 'shorthanded'\n",
    "                            team = _statistic.team.name\n",
    "                            eventReportObj = {\n",
    "                                'game': gameData.id,\n",
    "                                'description': _event.description,\n",
    "                                'clock': _event.clock,\n",
    "                                'type': _event.event_type,\n",
    "                                'action_area' :  action_area ,\n",
    "                                'is_porwerplay': is_powerplay,\n",
    "                                'shot_type': _event.details.shot_type,\n",
    "                                'distance':  _event.details.distance,\n",
    "                                'location' : [_event.location.coord_x, _event.location.coord_y ]\n",
    "                            }\n",
    "                            \n",
    "            # STEP TYPE: goal\n",
    "            if _event.event_type == \"goal\":\n",
    "                for _statistic in _event.statistics:\n",
    "                    if _statistic.type == 'shotagainst':\n",
    "                            player = _statistic.player.full_name\n",
    "                            is_powerplay = _statistic.strength == 'shorthanded'\n",
    "                            team = _statistic.team.name\n",
    "                            eventReportObj = {\n",
    "                                'game': gameData.id,\n",
    "                                'description': _event.description,\n",
    "                                'clock': _event.clock,\n",
    "                                'type': _event.event_type,\n",
    "                                'action_area' :  action_area,\n",
    "                                'is_porwerplay': is_powerplay,\n",
    "                                'goal_zone': _event.details.goal_zone,\n",
    "                                'shot_type': _event.details.shot_type,\n",
    "                                'distance':  _event.details.distance,\n",
    "                                'location' : [_event.location.coord_x, _event.location.coord_y ]\n",
    "                            }\n",
    "\n",
    "\n",
    "            \n",
    "            # STEP: add item report\n",
    "            if eventReportObj:\n",
    "                if player not in report[team]:\n",
    "                    report[team][player] = {\n",
    "                        'events': []\n",
    "                    }\n",
    "\n",
    "                report[team][player]['events'].append(eventReportObj)\n",
    "        "
   ]
  },
  {
   "cell_type": "markdown",
   "id": "4bc7a317",
   "metadata": {},
   "source": [
    "# Debug"
   ]
  },
  {
   "cell_type": "code",
   "execution_count": 160,
   "id": "e7ddaab4",
   "metadata": {},
   "outputs": [],
   "source": [
    "gameFileId = '02501726-a798-4455-a583-f32dcfdae98c' # oilers_games[0]\n",
    "\n",
    "with open( f\"./output/games/game_{gameFileId}.json\") as f:\n",
    "    data = json.load(f)\n",
    "\n",
    "_gameObj = DictObj(data)"
   ]
  },
  {
   "cell_type": "code",
   "execution_count": 168,
   "id": "1c2b8da0",
   "metadata": {},
   "outputs": [
    {
     "name": "stdout",
     "output_type": "stream",
     "text": [
      "shorthanded Power play - Goal scored by Vincent Trocheck assisted by Artemi Panarin and Adam Fox\n",
      "even Goal scored by Alexis Lafreniere assisted by Adam Fox and Artemi Panarin\n"
     ]
    }
   ],
   "source": [
    "# !!no print!!\n",
    "parseGame(_gameObj)\n",
    "# print(report)"
   ]
  },
  {
   "cell_type": "markdown",
   "id": "54cc747f",
   "metadata": {},
   "source": [
    "# Loop all games"
   ]
  },
  {
   "cell_type": "code",
   "execution_count": 183,
   "id": "3020b6b8",
   "metadata": {},
   "outputs": [],
   "source": [
    "for gameFileId in oilers_games:\n",
    "    with open( f\"./output/games/game_{gameFileId}.json\") as f:\n",
    "        data = json.load(f)\n",
    "    _gameObj = DictObj(data)\n",
    "    try:\n",
    "        parseGame(_gameObj)\n",
    "    except:\n",
    "        print(gameFileId)"
   ]
  },
  {
   "cell_type": "code",
   "execution_count": 184,
   "id": "d1af322b",
   "metadata": {},
   "outputs": [],
   "source": [
    "\n",
    "for gameFileId in panthers_games:\n",
    "    with open( f\"./output/games/game_{gameFileId}.json\") as f:\n",
    "        data = json.load(f)\n",
    "    _gameObj = DictObj(data)\n",
    "    try:\n",
    "        parseGame(_gameObj)\n",
    "    except:\n",
    "        print(gameFileId)"
   ]
  },
  {
   "cell_type": "code",
   "execution_count": 185,
   "id": "7ef27d47",
   "metadata": {},
   "outputs": [],
   "source": [
    "file_name = f\"./output/reports/widget-prefinal-goalies/widget-prefinal-goalies.json\"\n",
    "with open(file_name, \"w\") as outfile:\n",
    "    json.dump(report, outfile, indent=2)"
   ]
  },
  {
   "cell_type": "code",
   "execution_count": null,
   "id": "6bbf99de",
   "metadata": {},
   "outputs": [],
   "source": []
  }
 ],
 "metadata": {
  "kernelspec": {
   "display_name": "Python 3 (ipykernel)",
   "language": "python",
   "name": "python3"
  },
  "language_info": {
   "codemirror_mode": {
    "name": "ipython",
    "version": 3
   },
   "file_extension": ".py",
   "mimetype": "text/x-python",
   "name": "python",
   "nbconvert_exporter": "python",
   "pygments_lexer": "ipython3",
   "version": "3.9.13"
  }
 },
 "nbformat": 4,
 "nbformat_minor": 5
}

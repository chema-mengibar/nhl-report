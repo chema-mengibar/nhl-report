{
 "cells": [
  {
   "cell_type": "code",
   "execution_count": 1,
   "id": "9eab8dd0",
   "metadata": {},
   "outputs": [],
   "source": [
    "import json\n",
    "import datetime"
   ]
  },
  {
   "cell_type": "code",
   "execution_count": 2,
   "id": "a515f9ae",
   "metadata": {},
   "outputs": [],
   "source": [
    "%run lib.ipynb"
   ]
  },
  {
   "cell_type": "code",
   "execution_count": 7,
   "id": "2ce330f3",
   "metadata": {},
   "outputs": [],
   "source": [
    "with open( \"./data/playoff-schedule.json\") as f:\n",
    "    schedule_data = json.load(f)\n",
    "\n",
    "schedule = DictObj(schedule_data)"
   ]
  },
  {
   "cell_type": "code",
   "execution_count": 8,
   "id": "59e6c319",
   "metadata": {},
   "outputs": [
    {
     "name": "stdout",
     "output_type": "stream",
     "text": [
      "{'round': 1, 'teams': {'a': 'Hurricanes', 'b': 'Islanders'}, 'leader': 'a', 'lead_result': {'a': 4, 'b': 1}, 'games': [{'score': {'a': 3, 'b': 1}, 'lead': {'a': 1, 'b': 0}, 'lead_team': 'a', 'game_idx': 1, 'date': '2024-04-20'}, {'score': {'a': 5, 'b': 3}, 'lead': {'a': 2, 'b': 0}, 'lead_team': 'a', 'game_idx': 2, 'date': '2024-04-23'}, {'score': {'a': 3, 'b': 2}, 'lead': {'a': 3, 'b': 0}, 'lead_team': 'a', 'game_idx': 3, 'date': '2024-04-26'}, {'score': {'a': 2, 'b': 3}, 'lead': {'a': 3, 'b': 1}, 'lead_team': 'a', 'game_idx': 4, 'date': '2024-04-27'}, {'score': {'a': 6, 'b': 3}, 'lead': {'a': 4, 'b': 1}, 'lead_team': 'a', 'game_idx': 5, 'date': '2024-05-01'}]}\n",
      "{'round': 1, 'teams': {'a': 'Bruins', 'b': 'Leafs'}, 'leader': 'a', 'lead_result': {'a': 4, 'b': 3}, 'games': [{'score': {'a': 5, 'b': 1}, 'lead': {'a': 1, 'b': 0}, 'lead_team': 'a', 'game_idx': 1, 'date': '2024-04-21'}, {'score': {'a': 2, 'b': 3}, 'lead': {'a': 1, 'b': 1}, 'lead_team': 'x', 'game_idx': 2, 'date': '2024-04-23'}, {'score': {'a': 4, 'b': 2}, 'lead': {'a': 2, 'b': 1}, 'lead_team': 'a', 'game_idx': 3, 'date': '2024-04-25'}, {'score': {'a': 3, 'b': 1}, 'lead': {'a': 3, 'b': 1}, 'lead_team': 'a', 'game_idx': 4, 'date': '2024-04-28'}, {'score': {'a': 1, 'b': 2}, 'lead': {'a': 3, 'b': 2}, 'lead_team': 'a', 'game_idx': 5, 'date': '2024-05-01'}, {'score': {'a': 1, 'b': 2}, 'lead': {'a': 3, 'b': 3}, 'lead_team': 'a', 'game_idx': 6, 'date': '2024-05-03'}, {'score': {'a': 2, 'b': 1}, 'lead': {'a': 4, 'b': 3}, 'lead_team': 'a', 'game_idx': 7, 'date': '2024-05-05'}]}\n",
      "{'round': 1, 'teams': {'a': 'Panthers', 'b': 'Lightning'}, 'leader': 'a', 'lead_result': {'a': 4, 'b': 1}, 'games': [{'score': {'a': 3, 'b': 2}, 'lead': {'a': 1, 'b': 0}, 'lead_team': 'a', 'game_idx': 1, 'date': '2024-04-21'}, {'score': {'a': 3, 'b': 2}, 'lead': {'a': 2, 'b': 0}, 'lead_team': 'a', 'game_idx': 2, 'date': '2024-04-24'}, {'score': {'a': 5, 'b': 3}, 'lead': {'a': 3, 'b': 0}, 'lead_team': 'a', 'game_idx': 3, 'date': '2024-04-26'}, {'score': {'a': 3, 'b': 6}, 'lead': {'a': 3, 'b': 1}, 'lead_team': 'a', 'game_idx': 4, 'date': '2024-04-27'}, {'score': {'a': 6, 'b': 1}, 'lead': {'a': 4, 'b': 1}, 'lead_team': 'a', 'game_idx': 5, 'date': '2024-04-30'}]}\n",
      "{'round': 1, 'teams': {'a': 'Rangers', 'b': 'Capitals'}, 'leader': 'a', 'lead_result': {'a': 4, 'b': 0}, 'games': [{'score': {'a': 4, 'b': 1}, 'lead': {'a': 1, 'b': 0}, 'lead_team': 'a', 'game_idx': 1, 'date': '2024-04-21'}, {'score': {'a': 4, 'b': 3}, 'lead': {'a': 2, 'b': 0}, 'lead_team': 'a', 'game_idx': 2, 'date': '2024-04-24'}, {'score': {'a': 3, 'b': 1}, 'lead': {'a': 3, 'b': 0}, 'lead_team': 'a', 'game_idx': 3, 'date': '2024-04-27'}, {'score': {'a': 4, 'b': 2}, 'lead': {'a': 4, 'b': 0}, 'lead_team': 'a', 'game_idx': 4, 'date': '2024-04-29'}]}\n",
      "{'round': 1, 'teams': {'a': 'Jets', 'b': 'Avalanche'}, 'leader': 'b', 'lead_result': {'a': 1, 'b': 4}, 'games': [{'score': {'a': 7, 'b': 6}, 'lead': {'a': 1, 'b': 0}, 'lead_team': 'a', 'game_idx': 1, 'date': '2024-04-22'}, {'score': {'a': 2, 'b': 5}, 'lead': {'a': 1, 'b': 1}, 'lead_team': 'x', 'game_idx': 2, 'date': '2024-04-24'}, {'score': {'a': 2, 'b': 6}, 'lead': {'a': 1, 'b': 2}, 'lead_team': 'b', 'game_idx': 3, 'date': '2024-04-27'}, {'score': {'a': 1, 'b': 5}, 'lead': {'a': 1, 'b': 3}, 'lead_team': 'b', 'game_idx': 4, 'date': '2024-04-28'}, {'score': {'a': 3, 'b': 6}, 'lead': {'a': 1, 'b': 4}, 'lead_team': 'b', 'game_idx': 5, 'date': '2024-05-01'}]}\n",
      "{'round': 1, 'teams': {'a': 'Canucks', 'b': 'Predators'}, 'leader': 'a', 'lead_result': {'a': 4, 'b': 2}, 'games': [{'score': {'a': 4, 'b': 2}, 'lead': {'a': 1, 'b': 0}, 'lead_team': 'a', 'game_idx': 1, 'date': '2024-04-22'}, {'score': {'a': 1, 'b': 4}, 'lead': {'a': 1, 'b': 1}, 'lead_team': 'x', 'game_idx': 2, 'date': '2024-04-24'}, {'score': {'a': 2, 'b': 1}, 'lead': {'a': 2, 'b': 1}, 'lead_team': 'a', 'game_idx': 3, 'date': '2024-04-27'}, {'score': {'a': 4, 'b': 3}, 'lead': {'a': 3, 'b': 1}, 'lead_team': 'a', 'game_idx': 4, 'date': '2024-04-28'}, {'score': {'a': 1, 'b': 2}, 'lead': {'a': 3, 'b': 2}, 'lead_team': 'a', 'game_idx': 5, 'date': '2024-05-01'}, {'score': {'a': 1, 'b': 0}, 'lead': {'a': 4, 'b': 2}, 'lead_team': 'a', 'game_idx': 6, 'date': '2024-05-04'}]}\n",
      "{'round': 1, 'teams': {'a': 'Stars', 'b': 'Knights'}, 'leader': 'a', 'lead_result': {'a': 4, 'b': 3}, 'games': [{'score': {'a': 3, 'b': 4}, 'lead': {'a': 0, 'b': 1}, 'lead_team': 'b', 'game_idx': 1, 'date': '2024-04-23'}, {'score': {'a': 1, 'b': 3}, 'lead': {'a': 0, 'b': 2}, 'lead_team': 'b', 'game_idx': 2, 'date': '2024-04-25'}, {'score': {'a': 3, 'b': 2}, 'lead': {'a': 1, 'b': 2}, 'lead_team': 'b', 'game_idx': 3, 'date': '2024-04-28'}, {'score': {'a': 4, 'b': 2}, 'lead': {'a': 2, 'b': 2}, 'lead_team': 'x', 'game_idx': 4, 'date': '2024-04-30'}, {'score': {'a': 3, 'b': 2}, 'lead': {'a': 3, 'b': 2}, 'lead_team': 'a', 'game_idx': 5, 'date': '2024-05-02'}, {'score': {'a': 0, 'b': 2}, 'lead': {'a': 3, 'b': 3}, 'lead_team': 'x', 'game_idx': 6, 'date': '2024-05-04'}, {'score': {'a': 2, 'b': 1}, 'lead': {'a': 4, 'b': 3}, 'lead_team': 'a', 'game_idx': 7, 'date': '2024-05-06'}]}\n",
      "{'round': 1, 'teams': {'a': 'Oilers', 'b': 'Kings'}, 'leader': 'a', 'lead_result': {'a': 4, 'b': 1}, 'games': [{'score': {'a': 7, 'b': 4}, 'lead': {'a': 1, 'b': 0}, 'lead_team': 'a', 'game_idx': 1, 'date': '2024-04-23'}, {'score': {'a': 4, 'b': 5}, 'lead': {'a': 1, 'b': 1}, 'lead_team': 'x', 'game_idx': 2, 'date': '2024-04-25'}, {'score': {'a': 6, 'b': 1}, 'lead': {'a': 2, 'b': 1}, 'lead_team': 'a', 'game_idx': 3, 'date': '2024-04-27'}, {'score': {'a': 1, 'b': 0}, 'lead': {'a': 3, 'b': 1}, 'lead_team': 'a', 'game_idx': 4, 'date': '2024-04-29'}, {'score': {'a': 4, 'b': 3}, 'lead': {'a': 4, 'b': 1}, 'lead_team': 'a', 'game_idx': 5, 'date': '2024-05-02'}]}\n",
      "{'round': 2, 'teams': {'a': 'Rangers', 'b': 'Hurricanes'}, 'leader': 'a', 'lead_result': {'a': 4, 'b': 2}, 'games': [{'score': {'a': 4, 'b': 3}, 'lead': {'a': 1, 'b': 0}, 'lead_team': 'a', 'game_idx': 1, 'date': '2024-05-05'}, {'score': {'a': 4, 'b': 3}, 'lead': {'a': 2, 'b': 0}, 'lead_team': 'a', 'game_idx': 2, 'date': '2024-05-08'}, {'score': {'a': 3, 'b': 2}, 'lead': {'a': 3, 'b': 0}, 'lead_team': 'a', 'game_idx': 3, 'date': '2024-05-10'}, {'score': {'a': 3, 'b': 4}, 'lead': {'a': 3, 'b': 1}, 'lead_team': 'a', 'game_idx': 5, 'date': '2024-05-12'}, {'score': {'a': 1, 'b': 4}, 'lead': {'a': 3, 'b': 2}, 'lead_team': 'a', 'game_idx': 6, 'date': '2024-05-14'}, {'score': {'a': 5, 'b': 3}, 'lead': {'a': 4, 'b': 2}, 'lead_team': 'a', 'game_idx': 7, 'date': '2024-05-17'}]}\n",
      "{'round': 2, 'teams': {'a': 'Panthers', 'b': 'Bruins'}, 'leader': 'a', 'lead_result': {'a': 4, 'b': 2}, 'games': [{'score': {'a': 1, 'b': 5}, 'lead': {'a': 0, 'b': 1}, 'lead_team': 'b', 'game_idx': 1, 'date': '2024-05-07'}, {'score': {'a': 6, 'b': 1}, 'lead': {'a': 1, 'b': 1}, 'lead_team': 'x', 'game_idx': 2, 'date': '2024-05-09'}, {'score': {'a': 6, 'b': 2}, 'lead': {'a': 2, 'b': 1}, 'lead_team': 'a', 'game_idx': 3, 'date': '2024-05-11'}, {'score': {'a': 3, 'b': 2}, 'lead': {'a': 3, 'b': 1}, 'lead_team': 'a', 'game_idx': 4, 'date': '2024-05-13'}, {'score': {'a': 1, 'b': 2}, 'lead': {'a': 3, 'b': 2}, 'lead_team': 'a', 'game_idx': 5, 'date': '2024-05-15'}, {'score': {'a': 2, 'b': 1}, 'lead': {'a': 4, 'b': 2}, 'lead_team': 'a', 'game_idx': 6, 'date': '2024-05-18'}]}\n",
      "{'round': 2, 'teams': {'a': 'Stars', 'b': 'Avalanche'}, 'leader': 'a', 'lead_result': {'a': 4, 'b': 2}, 'games': [{'score': {'a': 3, 'b': 4}, 'lead': {'a': 0, 'b': 1}, 'lead_team': 'b', 'game_idx': 1, 'date': '2024-05-08'}, {'score': {'a': 5, 'b': 3}, 'lead': {'a': 1, 'b': 1}, 'lead_team': 'x', 'game_idx': 2, 'date': '2024-05-10'}, {'score': {'a': 4, 'b': 1}, 'lead': {'a': 2, 'b': 1}, 'lead_team': 'a', 'game_idx': 3, 'date': '2024-05-12'}, {'score': {'a': 5, 'b': 1}, 'lead': {'a': 3, 'b': 1}, 'lead_team': 'a', 'game_idx': 4, 'date': '2024-05-14'}, {'score': {'a': 3, 'b': 5}, 'lead': {'a': 3, 'b': 2}, 'lead_team': 'a', 'game_idx': 5, 'date': '2024-05-16'}, {'score': {'a': 2, 'b': 1}, 'lead': {'a': 4, 'b': 2}, 'lead_team': 'a', 'game_idx': 6, 'date': '2024-05-18'}]}\n",
      "{'round': 2, 'teams': {'a': 'Canucks', 'b': 'Oilers'}, 'leader': 'b', 'lead_result': {'a': 3, 'b': 4}, 'games': [{'score': {'a': 5, 'b': 4}, 'lead': {'a': 1, 'b': 0}, 'lead_team': 'a', 'game_idx': 1, 'date': '2024-05-09'}, {'score': {'a': 3, 'b': 4}, 'lead': {'a': 1, 'b': 1}, 'lead_team': 'x', 'game_idx': 2, 'date': '2024-05-11'}, {'score': {'a': 4, 'b': 3}, 'lead': {'a': 2, 'b': 1}, 'lead_team': 'a', 'game_idx': 3, 'date': '2024-05-13'}, {'score': {'a': 2, 'b': 3}, 'lead': {'a': 2, 'b': 2}, 'lead_team': 'x', 'game_idx': 4, 'date': '2024-05-15'}, {'score': {'a': 3, 'b': 2}, 'lead': {'a': 3, 'b': 2}, 'lead_team': 'a', 'game_idx': 5, 'date': '2024-05-17'}, {'score': {'a': 1, 'b': 5}, 'lead': {'a': 3, 'b': 3}, 'lead_team': 'x', 'game_idx': 6, 'date': '2024-05-19'}, {'score': {'a': 2, 'b': 3}, 'lead': {'a': 3, 'b': 4}, 'lead_team': 'b', 'game_idx': 7, 'date': '2024-05-21'}]}\n",
      "{'round': 3, 'teams': {'a': 'Rangers', 'b': 'Panthers'}, 'leader': 'b', 'lead_result': {'a': 2, 'b': 4}, 'games': [{'score': {'a': 0, 'b': 3}, 'lead': {'a': 0, 'b': 1}, 'lead_team': 'b', 'game_idx': 1, 'date': '2024-05-22'}, {'score': {'a': 2, 'b': 1}, 'lead': {'a': 1, 'b': 1}, 'lead_team': 'x', 'game_idx': 2, 'date': '2024-05-24'}, {'score': {'a': 5, 'b': 4}, 'lead': {'a': 2, 'b': 1}, 'lead_team': 'a', 'game_idx': 3, 'date': '2024-05-26'}, {'score': {'a': 2, 'b': 3}, 'lead': {'a': 2, 'b': 2}, 'lead_team': 'x', 'game_idx': 4, 'date': '2024-05-29'}, {'score': {'a': 2, 'b': 3}, 'lead': {'a': 2, 'b': 3}, 'lead_team': 'b', 'game_idx': 5, 'date': '2024-05-31'}, {'score': {'a': 1, 'b': 2}, 'lead': {'a': 2, 'b': 4}, 'lead_team': 'b', 'game_idx': 6, 'date': '2024-06-02'}]}\n",
      "{'round': 3, 'teams': {'a': 'Stars', 'b': 'Oilers'}, 'leader': 'b', 'lead_result': {'a': 2, 'b': 3}, 'games': [{'score': {'a': 2, 'b': 3}, 'lead': {'a': 0, 'b': 1}, 'lead_team': 'b', 'game_idx': 1, 'date': '2024-05-23'}, {'score': {'a': 3, 'b': 1}, 'lead': {'a': 1, 'b': 1}, 'lead_team': 'x', 'game_idx': 2, 'date': '2024-05-26'}, {'score': {'a': 5, 'b': 3}, 'lead': {'a': 2, 'b': 1}, 'lead_team': 'a', 'game_idx': 3, 'date': '2024-05-28'}, {'score': {'a': 2, 'b': 5}, 'lead': {'a': 2, 'b': 2}, 'lead_team': 'x', 'game_idx': 4, 'date': '2024-05-30'}, {'score': {'a': 1, 'b': 3}, 'lead': {'a': 2, 'b': 3}, 'lead_team': 'b', 'game_idx': 5, 'date': '2024-06-01'}]}\n"
     ]
    }
   ],
   "source": [
    "for roundItem in schedule.rounds:\n",
    "    \n",
    "\n",
    "    \n",
    "    for groupItem in roundItem.groups:\n",
    "        \n",
    "        _a = groupItem.teams[0]\n",
    "        _b = groupItem.teams[1]\n",
    "        \n",
    "        _data = {\n",
    "            'round': roundItem.round,\n",
    "            'teams': {\n",
    "                'a': _a,\n",
    "                'b': _b,\n",
    "            },\n",
    "            'leader': '',\n",
    "            'lead_result': {\n",
    "                'a': 0,\n",
    "                'b': 0,\n",
    "            },\n",
    "            'games':[]\n",
    "        }\n",
    "        _gamesData = []\n",
    "        \n",
    "        for gameItem in groupItem.games:\n",
    "            \n",
    "            score = gameItem.score.split(':')\n",
    "            \n",
    "            cleanLead = gameItem.lead.replace(':', '-')\n",
    "            groupLead = cleanLead.split('-')\n",
    "            \n",
    "            dateNums = gameItem.date.split('.')\n",
    "           \n",
    "            x = datetime.datetime(2024, int(dateNums[1]), int(dateNums[0]))\n",
    "            dateFormated = x.strftime(\"%Y-%m-%d\")\n",
    "    \n",
    "                \n",
    "            lead_team =  ''\n",
    "            if( gameItem.lead_team == _a ):\n",
    "                lead_team =  'a'\n",
    "            elif( gameItem.lead_team == _b ):\n",
    "                lead_team =  'b'\n",
    "            else:\n",
    "                lead_team =  'x'\n",
    "                       \n",
    "                \n",
    "            _gameData = {\n",
    "                'score': {\n",
    "                    'a': int(score[0]),\n",
    "                    'b': int(score[1]),\n",
    "                },\n",
    "                'lead': {\n",
    "                    'a': int(groupLead[0]),\n",
    "                    'b':int( groupLead[1]),\n",
    "                },\n",
    "                'lead_team': lead_team,\n",
    "                'game_idx': gameItem.game,\n",
    "                'date': dateFormated\n",
    "            }\n",
    "\n",
    "            _data['leader'] = lead_team\n",
    "            _data['lead_result']['a'] = int(groupLead[0])\n",
    "            _data['lead_result']['b'] = int(groupLead[1])\n",
    "            \n",
    "            _gamesData.append(_gameData)\n",
    "        \n",
    "        _data['games'] = _gamesData\n",
    "        \n",
    "        file_name = f\"./output/reports/widget-group-teams/widget-group-teams_{_a}-{_b}.json\"\n",
    "        with open(file_name, \"w\") as outfile:\n",
    "            json.dump(_data, outfile, indent=2)\n",
    "        \n",
    "        print(_data)\n",
    "            \n",
    "        "
   ]
  },
  {
   "cell_type": "code",
   "execution_count": null,
   "id": "9fa63f09",
   "metadata": {},
   "outputs": [],
   "source": []
  }
 ],
 "metadata": {
  "kernelspec": {
   "display_name": "Python 3 (ipykernel)",
   "language": "python",
   "name": "python3"
  },
  "language_info": {
   "codemirror_mode": {
    "name": "ipython",
    "version": 3
   },
   "file_extension": ".py",
   "mimetype": "text/x-python",
   "name": "python",
   "nbconvert_exporter": "python",
   "pygments_lexer": "ipython3",
   "version": "3.9.13"
  }
 },
 "nbformat": 4,
 "nbformat_minor": 5
}

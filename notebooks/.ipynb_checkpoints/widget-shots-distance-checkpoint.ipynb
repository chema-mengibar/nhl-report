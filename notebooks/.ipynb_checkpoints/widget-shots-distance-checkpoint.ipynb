{
 "cells": [
  {
   "cell_type": "code",
   "execution_count": 1,
   "id": "9440f102",
   "metadata": {},
   "outputs": [],
   "source": [
    "import json\n",
    "import datetime"
   ]
  },
  {
   "cell_type": "code",
   "execution_count": 2,
   "id": "104c4995",
   "metadata": {},
   "outputs": [],
   "source": [
    "%run lib.ipynb"
   ]
  },
  {
   "cell_type": "code",
   "execution_count": 3,
   "id": "5f7723c5",
   "metadata": {},
   "outputs": [],
   "source": [
    "with open( \"./data/playoff-schedule.json\") as f:\n",
    "    schedule_data = json.load(f)\n",
    "\n",
    "schedule = DictObj(schedule_data)"
   ]
  },
  {
   "cell_type": "markdown",
   "id": "97f325f1",
   "metadata": {},
   "source": [
    "### Game Parser"
   ]
  },
  {
   "cell_type": "code",
   "execution_count": 18,
   "id": "9ffb1c26",
   "metadata": {},
   "outputs": [],
   "source": [
    "def parseGameById( gameFileId ):\n",
    "\n",
    "    with open( f\"./output/games/game_{gameFileId}.json\") as f:\n",
    "        data = json.load(f)\n",
    "\n",
    "    _gameObj = DictObj(data)\n",
    "    \n",
    "    home_reference = _gameObj.home.reference\n",
    "    away_reference = _gameObj.away.reference\n",
    "    \n",
    "    report = {\n",
    "        'periods': _gameObj.period,\n",
    "        'teams':{\n",
    "            'home': _gameObj.home.name,\n",
    "            'away': _gameObj.away.name,\n",
    "        },\n",
    "        'score':{\n",
    "            'home': _gameObj.home.points,\n",
    "            'away': _gameObj.away.points,\n",
    "        },\n",
    "        'shots':{\n",
    "            'home' : [],\n",
    "            'away' : [],\n",
    "        }\n",
    "        \n",
    "    }\n",
    "    \n",
    "\n",
    "    \n",
    "    #step: periods - events\n",
    "    for period in _gameObj.periods:\n",
    "        for event in period.events:\n",
    "            \n",
    "            if( event.event_type != \"shotmissed\" and  \n",
    "                event.event_type != \"shotsaved\" and \n",
    "                event.event_type != \"penaltygoal\" and\n",
    "                event.event_type != \"emptynetgoal\" and \n",
    "                event.event_type != \"goal\" ):\n",
    "                continue\n",
    "                \n",
    "            \n",
    "            #step: time calculate\n",
    "            secondsPeriodByType = seconds_in_period\n",
    "\n",
    "            if( period.type == 'overtime'):\n",
    "                 secondsPeriodByType = seconds_in_overtime\n",
    "                        \n",
    "            timeInPeriod = secondsPeriodByType - timeToSeconds(event.clock)\n",
    "            timeInGame = 0\n",
    "                \n",
    "            if( period.sequence == 1):\n",
    "                timeInGame = timeInPeriod\n",
    "            elif ( period.sequence == 2 or period.sequence == 3):\n",
    "                 timeInGame = ((period.number - 1) * secondsPeriodByType ) + timeInPeriod\n",
    "            else:\n",
    "                #step: overtime\n",
    "                timeInGame = (seconds_in_period * 3 )  +  ((period.sequence - 4) * seconds_in_overtime ) + timeInPeriod\n",
    "                \n",
    "            #step: time calculate    \n",
    "            _shot = {\n",
    "                'saved': event.event_type == \"shotsaved\",\n",
    "                'shot_type': event.details.shot_type,\n",
    "                'distance': event.details.distance,\n",
    "                #'clock': event.clock,\n",
    "                'time_in_game': timeInGame,\n",
    "                #'coord_x': event.location.coord_x,\n",
    "                #'coord_y': event.location.coord_y,\n",
    "                #'action_area': event.location.action_area,\n",
    "                'location': event.location.__dict__,\n",
    "            }\n",
    "            \n",
    "   \n",
    "                    \n",
    "            if(event.attribution.reference == home_reference):\n",
    "                #step: home\n",
    "                report['shots']['home'].append(_shot)\n",
    "            else:\n",
    "                #step: away\n",
    "                report['shots']['away'].append(_shot)\n",
    "        \n",
    "    #step: add to report\n",
    "    \n",
    "    \n",
    "    return report\n",
    "    \n",
    "    "
   ]
  },
  {
   "cell_type": "code",
   "execution_count": 13,
   "id": "2b58d514",
   "metadata": {},
   "outputs": [
    {
     "name": "stdout",
     "output_type": "stream",
     "text": [
      "{'periods': 3, 'teams': {'home': 'Hurricanes', 'away': 'Rangers'}, 'score': {'home': 3, 'away': 5}, 'shots': {'home': [{'saved': True, 'shot_type': 'wrist', 'distance': 34, 'clock': '17:03', 'time_in_game': 177, 'location': {'coord_x': 456, 'coord_y': 264, 'action_area': 'insiderightcircle'}}, {'saved': True, 'shot_type': 'slap', 'distance': 49, 'clock': '16:36', 'time_in_game': 204, 'location': {'coord_x': 708, 'coord_y': 408, 'action_area': 'centerpoint'}}, {'saved': False, 'shot_type': 'wrist', 'distance': 34, 'clock': '14:52', 'time_in_game': 308, 'location': {'coord_x': 528, 'coord_y': 588, 'action_area': 'lowcenterpoint'}}, {'saved': False, 'shot_type': 'wrist', 'distance': 41, 'clock': '14:36', 'time_in_game': 324, 'location': {'coord_x': 444, 'coord_y': 132, 'action_area': 'outsiderightcircle'}}, {'saved': True, 'shot_type': 'wrist', 'distance': 40, 'clock': '14:03', 'time_in_game': 357, 'location': {'coord_x': 576, 'coord_y': 696, 'action_area': 'lowleftpoint'}}, {'saved': True, 'shot_type': 'wrist', 'distance': 51, 'clock': '11:35', 'time_in_game': 505, 'location': {'coord_x': 660, 'coord_y': 204, 'action_area': 'rightpoint'}}, {'saved': True, 'shot_type': 'wrist', 'distance': 41, 'clock': '8:44', 'time_in_game': 676, 'location': {'coord_x': 600, 'coord_y': 660, 'action_area': 'lowleftpoint'}}, {'saved': False, 'shot_type': 'wrist', 'distance': 55, 'clock': '7:07', 'time_in_game': 773, 'location': {'coord_x': 564, 'coord_y': 1008, 'action_area': 'lowleftpoint'}}, {'saved': False, 'shot_type': 'wrist', 'distance': 24, 'clock': '5:26', 'time_in_game': 874, 'location': {'coord_x': 372, 'coord_y': 660, 'action_area': 'insideleftcircle'}}, {'saved': False, 'shot_type': 'wrist', 'distance': 87, 'clock': '4:49', 'time_in_game': 911, 'location': {'coord_x': 1068, 'coord_y': 48, 'action_area': 'neutralzone'}}, {'saved': False, 'shot_type': 'wrist', 'distance': 13, 'clock': '4:38', 'time_in_game': 922, 'location': {'coord_x': 276, 'coord_y': 456, 'action_area': 'slot'}}, {'saved': False, 'shot_type': 'wrist', 'distance': 43, 'clock': '4:01', 'time_in_game': 959, 'location': {'coord_x': 540, 'coord_y': 192, 'action_area': 'lowrightpoint'}}, {'saved': False, 'shot_type': 'wrist', 'distance': 54, 'clock': '2:02', 'time_in_game': 1078, 'location': {'coord_x': 636, 'coord_y': 108, 'action_area': 'rightpoint'}}, {'saved': False, 'shot_type': 'snap', 'distance': 8, 'clock': '1:22', 'time_in_game': 1118, 'location': {'coord_x': 192, 'coord_y': 576, 'action_area': 'lowslot'}}, {'saved': False, 'shot_type': 'wrist', 'distance': 66, 'clock': '1:14', 'time_in_game': 1126, 'location': {'coord_x': 792, 'coord_y': 936, 'action_area': 'leftpoint'}}, {'saved': True, 'shot_type': 'slap', 'distance': 49, 'clock': '00:53', 'time_in_game': 1147, 'location': {'coord_x': 636, 'coord_y': 816, 'action_area': 'leftpoint'}}, {'saved': True, 'shot_type': 'wrist', 'distance': 26, 'clock': '00:22', 'time_in_game': 1178, 'location': {'coord_x': 252, 'coord_y': 216, 'action_area': 'lowright'}}, {'saved': False, 'shot_type': 'wrist', 'distance': 33, 'clock': '19:23', 'time_in_game': 1237, 'location': {'coord_x': 1872, 'coord_y': 624, 'action_area': 'lowrightpoint'}}, {'saved': False, 'shot_type': 'slap', 'distance': 72, 'clock': '18:43', 'time_in_game': 1277, 'location': {'coord_x': 1512, 'coord_y': 48, 'action_area': 'leftpoint'}}, {'saved': True, 'shot_type': 'backhand', 'distance': 28, 'clock': '17:16', 'time_in_game': 1364, 'location': {'coord_x': 2064, 'coord_y': 792, 'action_area': 'outsiderightcircle'}}, {'saved': False, 'shot_type': 'snap', 'distance': 8, 'clock': '15:38', 'time_in_game': 1462, 'location': {'coord_x': 2220, 'coord_y': 408, 'action_area': 'lowslot'}}, {'saved': True, 'shot_type': 'tip-in', 'distance': 5, 'clock': '15:24', 'time_in_game': 1476, 'location': {'coord_x': 2196, 'coord_y': 468, 'action_area': 'lowslot'}}, {'saved': False, 'shot_type': 'snap', 'distance': 4, 'clock': '15:22', 'time_in_game': 1478, 'location': {'coord_x': 2220, 'coord_y': 456, 'action_area': 'lowslot'}}, {'saved': True, 'shot_type': 'wrist', 'distance': 91, 'clock': '15:20', 'time_in_game': 1480, 'location': {'coord_x': 1188, 'coord_y': 288, 'action_area': 'neutralzone'}}, {'saved': False, 'shot_type': 'wrist', 'distance': 35, 'clock': '13:37', 'time_in_game': 1583, 'location': {'coord_x': 1908, 'coord_y': 252, 'action_area': 'insideleftcircle'}}, {'saved': True, 'shot_type': 'wrist', 'distance': 38, 'clock': '13:02', 'time_in_game': 1618, 'location': {'coord_x': 1896, 'coord_y': 216, 'action_area': 'outsideleftcircle'}}, {'saved': False, 'shot_type': 'snap', 'distance': 17, 'clock': '10:37', 'time_in_game': 1763, 'location': {'coord_x': 2064, 'coord_y': 576, 'action_area': 'highslot'}}, {'saved': False, 'shot_type': 'backhand', 'distance': 88, 'clock': '9:45', 'time_in_game': 1815, 'location': {'coord_x': 1224, 'coord_y': 804, 'action_area': 'neutralzone'}}, {'saved': True, 'shot_type': 'wrist', 'distance': 33, 'clock': '9:22', 'time_in_game': 1838, 'location': {'coord_x': 1884, 'coord_y': 336, 'action_area': 'lowleftpoint'}}, {'saved': True, 'shot_type': 'snap', 'distance': 29, 'clock': '7:32', 'time_in_game': 1948, 'location': {'coord_x': 1980, 'coord_y': 288, 'action_area': 'insideleftcircle'}}, {'saved': True, 'shot_type': 'snap', 'distance': 39, 'clock': '4:23', 'time_in_game': 2137, 'location': {'coord_x': 1896, 'coord_y': 192, 'action_area': 'outsideleftcircle'}}, {'saved': True, 'shot_type': 'wrist', 'distance': 16, 'clock': '4:21', 'time_in_game': 2139, 'location': {'coord_x': 2136, 'coord_y': 660, 'action_area': 'rightslot'}}, {'saved': False, 'shot_type': 'wrist', 'distance': 37, 'clock': '3:19', 'time_in_game': 2201, 'location': {'coord_x': 1848, 'coord_y': 708, 'action_area': 'lowrightpoint'}}, {'saved': True, 'shot_type': 'snap', 'distance': 17, 'clock': '1:13', 'time_in_game': 2327, 'location': {'coord_x': 2052, 'coord_y': 540, 'action_area': 'highslot'}}, {'saved': True, 'shot_type': 'wrist', 'distance': 40, 'clock': '00:38', 'time_in_game': 2362, 'location': {'coord_x': 1776, 'coord_y': 408, 'action_area': 'centerpoint'}}, {'saved': False, 'shot_type': 'slap', 'distance': 9, 'clock': '00:16', 'time_in_game': 2384, 'location': {'coord_x': 2148, 'coord_y': 504, 'action_area': 'slot'}}, {'saved': True, 'shot_type': 'snap', 'distance': 53, 'clock': '19:37', 'time_in_game': 2423, 'location': {'coord_x': 540, 'coord_y': 24, 'action_area': 'lowrightpoint'}}, {'saved': False, 'shot_type': 'wrist', 'distance': 27, 'clock': '19:21', 'time_in_game': 2439, 'location': {'coord_x': 432, 'coord_y': 396, 'action_area': 'insiderightcircle'}}, {'saved': False, 'shot_type': 'wrist', 'distance': 61, 'clock': '19:01', 'time_in_game': 2459, 'location': {'coord_x': 828, 'coord_y': 276, 'action_area': 'rightpoint'}}, {'saved': True, 'shot_type': 'wrist', 'distance': 73, 'clock': '18:18', 'time_in_game': 2502, 'location': {'coord_x': 996, 'coord_y': 336, 'action_area': 'neutralzone'}}, {'saved': False, 'shot_type': 'wrist', 'distance': 33, 'clock': '17:42', 'time_in_game': 2538, 'location': {'coord_x': 516, 'coord_y': 612, 'action_area': 'lowcenterpoint'}}, {'saved': True, 'shot_type': 'backhand', 'distance': 16, 'clock': '17:31', 'time_in_game': 2549, 'location': {'coord_x': 240, 'coord_y': 348, 'action_area': 'rightslot'}}, {'saved': True, 'shot_type': 'backhand', 'distance': 4, 'clock': '17:30', 'time_in_game': 2550, 'location': {'coord_x': 132, 'coord_y': 456, 'action_area': 'lowslot'}}, {'saved': True, 'shot_type': 'tip-in', 'distance': 10, 'clock': '16:21', 'time_in_game': 2619, 'location': {'coord_x': 228, 'coord_y': 564, 'action_area': 'lowslot'}}, {'saved': False, 'shot_type': 'wrist', 'distance': 34, 'clock': '15:26', 'time_in_game': 2674, 'location': {'coord_x': 432, 'coord_y': 780, 'action_area': 'outsideleftcircle'}}, {'saved': True, 'shot_type': 'wrist', 'distance': 43, 'clock': '15:19', 'time_in_game': 2681, 'location': {'coord_x': 600, 'coord_y': 720, 'action_area': 'lowleftpoint'}}, {'saved': True, 'shot_type': 'wrist', 'distance': 47, 'clock': '15:01', 'time_in_game': 2699, 'location': {'coord_x': 552, 'coord_y': 888, 'action_area': 'lowleftpoint'}}, {'saved': False, 'shot_type': 'wrist', 'distance': 47, 'clock': '14:41', 'time_in_game': 2719, 'location': {'coord_x': 600, 'coord_y': 816, 'action_area': 'lowleftpoint'}}, {'saved': True, 'shot_type': 'snap', 'distance': 29, 'clock': '13:32', 'time_in_game': 2788, 'location': {'coord_x': 348, 'coord_y': 228, 'action_area': 'outsiderightcircle'}}, {'saved': False, 'shot_type': 'backhand', 'distance': 11, 'clock': '11:15', 'time_in_game': 2925, 'location': {'coord_x': 264, 'coord_y': 504, 'action_area': 'slot'}}, {'saved': True, 'shot_type': 'backhand', 'distance': 8, 'clock': '9:52', 'time_in_game': 3008, 'location': {'coord_x': 108, 'coord_y': 408, 'action_area': 'downlow'}}, {'saved': True, 'shot_type': 'snap', 'distance': 7, 'clock': '9:51', 'time_in_game': 3009, 'location': {'coord_x': 216, 'coord_y': 504, 'action_area': 'lowslot'}}, {'saved': False, 'shot_type': 'wrap-around', 'distance': 5, 'clock': '7:55', 'time_in_game': 3125, 'location': {'coord_x': 120, 'coord_y': 564, 'action_area': 'downlow'}}, {'saved': False, 'shot_type': 'snap', 'distance': 23, 'clock': '2:52', 'time_in_game': 3428, 'location': {'coord_x': 300, 'coord_y': 276, 'action_area': 'rightslot'}}, {'saved': True, 'shot_type': 'slap', 'distance': 37, 'clock': '2:50', 'time_in_game': 3430, 'location': {'coord_x': 348, 'coord_y': 876, 'action_area': 'outsideleftcircle'}}, {'saved': True, 'shot_type': 'snap', 'distance': 18, 'clock': '2:45', 'time_in_game': 3435, 'location': {'coord_x': 348, 'coord_y': 492, 'action_area': 'highslot'}}, {'saved': True, 'shot_type': 'wrist', 'distance': 40, 'clock': '2:36', 'time_in_game': 3444, 'location': {'coord_x': 504, 'coord_y': 804, 'action_area': 'outsideleftcircle'}}, {'saved': True, 'shot_type': 'snap', 'distance': 24, 'clock': '00:39', 'time_in_game': 3561, 'location': {'coord_x': 336, 'coord_y': 300, 'action_area': 'insiderightcircle'}}, {'saved': False, 'shot_type': 'snap', 'distance': 17, 'clock': '00:22', 'time_in_game': 3578, 'location': {'coord_x': 24, 'coord_y': 324, 'action_area': 'downlow'}}, {'saved': True, 'shot_type': 'backhand', 'distance': 58, 'clock': '00:19', 'time_in_game': 3581, 'location': {'coord_x': 696, 'coord_y': 96, 'action_area': 'rightpoint'}}, {'saved': True, 'shot_type': 'wrist', 'distance': 15, 'clock': '00:14', 'time_in_game': 3586, 'location': {'coord_x': 156, 'coord_y': 336, 'action_area': 'lowright'}}, {'saved': False, 'shot_type': 'wrist', 'distance': 58, 'clock': '00:08', 'time_in_game': 3592, 'location': {'coord_x': 684, 'coord_y': 912, 'action_area': 'leftpoint'}}, {'saved': False, 'shot_type': 'snap', 'distance': 24, 'clock': '00:02', 'time_in_game': 3598, 'location': {'coord_x': 396, 'coord_y': 396, 'action_area': 'insiderightcircle'}}], 'away': [{'saved': True, 'shot_type': 'wrist', 'distance': 51, 'clock': '18:12', 'time_in_game': 108, 'location': {'coord_x': 1860, 'coord_y': 972, 'action_area': 'lowrightpoint'}}, {'saved': False, 'shot_type': 'wrist', 'distance': 40, 'clock': '17:49', 'time_in_game': 131, 'location': {'coord_x': 1896, 'coord_y': 168, 'action_area': 'outsideleftcircle'}}, {'saved': False, 'shot_type': 'wrist', 'distance': 42, 'clock': '17:47', 'time_in_game': 133, 'location': {'coord_x': 1860, 'coord_y': 192, 'action_area': 'lowleftpoint'}}, {'saved': False, 'shot_type': 'wrist', 'distance': 13, 'clock': '17:27', 'time_in_game': 153, 'location': {'coord_x': 2208, 'coord_y': 348, 'action_area': 'lowleft'}}, {'saved': False, 'shot_type': 'wrist', 'distance': 6, 'clock': '17:23', 'time_in_game': 157, 'location': {'coord_x': 2196, 'coord_y': 456, 'action_area': 'lowslot'}}, {'saved': True, 'shot_type': 'slap', 'distance': 44, 'clock': '17:18', 'time_in_game': 162, 'location': {'coord_x': 1716, 'coord_y': 516, 'action_area': 'centerpoint'}}, {'saved': False, 'shot_type': 'wrist', 'distance': 45, 'clock': '16:29', 'time_in_game': 211, 'location': {'coord_x': 1884, 'coord_y': 912, 'action_area': 'lowrightpoint'}}, {'saved': False, 'shot_type': 'snap', 'distance': 52, 'clock': '16:27', 'time_in_game': 213, 'location': {'coord_x': 1788, 'coord_y': 84, 'action_area': 'lowleftpoint'}}, {'saved': False, 'shot_type': 'wrist', 'distance': 41, 'clock': '12:23', 'time_in_game': 457, 'location': {'coord_x': 1860, 'coord_y': 204, 'action_area': 'lowleftpoint'}}, {'saved': False, 'shot_type': 'wrist', 'distance': 51, 'clock': '10:44', 'time_in_game': 556, 'location': {'coord_x': 1836, 'coord_y': 948, 'action_area': 'lowrightpoint'}}, {'saved': False, 'shot_type': 'slap', 'distance': 55, 'clock': '10:36', 'time_in_game': 564, 'location': {'coord_x': 1632, 'coord_y': 264, 'action_area': 'leftpoint'}}, {'saved': False, 'shot_type': 'backhand', 'distance': 33, 'clock': '10:19', 'time_in_game': 581, 'location': {'coord_x': 2220, 'coord_y': 900, 'action_area': 'lowright'}}, {'saved': False, 'shot_type': 'backhand', 'distance': 9, 'clock': '10:18', 'time_in_game': 582, 'location': {'coord_x': 2184, 'coord_y': 588, 'action_area': 'lowslot'}}, {'saved': False, 'shot_type': 'snap', 'distance': 56, 'clock': '8:21', 'time_in_game': 699, 'location': {'coord_x': 1668, 'coord_y': 168, 'action_area': 'leftpoint'}}, {'saved': False, 'shot_type': 'tip-in', 'distance': 9, 'clock': '8:14', 'time_in_game': 706, 'location': {'coord_x': 2148, 'coord_y': 540, 'action_area': 'slot'}}, {'saved': False, 'shot_type': 'wrist', 'distance': 40, 'clock': '7:37', 'time_in_game': 743, 'location': {'coord_x': 1776, 'coord_y': 468, 'action_area': 'centerpoint'}}, {'saved': False, 'shot_type': 'snap', 'distance': 28, 'clock': '6:22', 'time_in_game': 818, 'location': {'coord_x': 2052, 'coord_y': 240, 'action_area': 'outsideleftcircle'}}, {'saved': False, 'shot_type': 'wrist', 'distance': 10, 'clock': '3:44', 'time_in_game': 976, 'location': {'coord_x': 2148, 'coord_y': 564, 'action_area': 'slot'}}, {'saved': False, 'shot_type': 'wrist', 'distance': 14, 'clock': '3:31', 'time_in_game': 989, 'location': {'coord_x': 2100, 'coord_y': 588, 'action_area': 'slot'}}, {'saved': False, 'shot_type': 'snap', 'distance': 13, 'clock': '3:03', 'time_in_game': 1017, 'location': {'coord_x': 2100, 'coord_y': 504, 'action_area': 'slot'}}, {'saved': True, 'shot_type': 'wrist', 'distance': 56, 'clock': '2:30', 'time_in_game': 1050, 'location': {'coord_x': 1680, 'coord_y': 144, 'action_area': 'leftpoint'}}, {'saved': False, 'shot_type': 'wrist', 'distance': 32, 'clock': '2:15', 'time_in_game': 1065, 'location': {'coord_x': 1872, 'coord_y': 552, 'action_area': 'lowcenterpoint'}}, {'saved': False, 'shot_type': 'wrist', 'distance': 38, 'clock': '1:03', 'time_in_game': 1137, 'location': {'coord_x': 1884, 'coord_y': 240, 'action_area': 'lowleftpoint'}}, {'saved': True, 'shot_type': 'snap', 'distance': 37, 'clock': '19:40', 'time_in_game': 1220, 'location': {'coord_x': 144, 'coord_y': 60, 'action_area': 'lowright'}}, {'saved': False, 'shot_type': 'tip-in', 'distance': 18, 'clock': '17:52', 'time_in_game': 1328, 'location': {'coord_x': 216, 'coord_y': 312, 'action_area': 'lowright'}}, {'saved': False, 'shot_type': 'slap', 'distance': 68, 'clock': '17:48', 'time_in_game': 1332, 'location': {'coord_x': 828, 'coord_y': 96, 'action_area': 'rightpoint'}}, {'saved': False, 'shot_type': 'wrist', 'distance': 57, 'clock': '14:44', 'time_in_game': 1516, 'location': {'coord_x': 672, 'coord_y': 924, 'action_area': 'leftpoint'}}, {'saved': True, 'shot_type': 'wrist', 'distance': 31, 'clock': '14:36', 'time_in_game': 1524, 'location': {'coord_x': 504, 'coord_y': 516, 'action_area': 'highslot'}}, {'saved': False, 'shot_type': 'tip-in', 'distance': 15, 'clock': '14:31', 'time_in_game': 1529, 'location': {'coord_x': 300, 'coord_y': 528, 'action_area': 'slot'}}, {'saved': True, 'shot_type': 'wrist', 'distance': 50, 'clock': '14:23', 'time_in_game': 1537, 'location': {'coord_x': 732, 'coord_y': 444, 'action_area': 'centerpoint'}}, {'saved': True, 'shot_type': 'deflected', 'distance': 8, 'clock': '14:19', 'time_in_game': 1541, 'location': {'coord_x': 216, 'coord_y': 528, 'action_area': 'lowslot'}}, {'saved': True, 'shot_type': 'wrist', 'distance': 37, 'clock': '11:29', 'time_in_game': 1711, 'location': {'coord_x': 552, 'coord_y': 360, 'action_area': 'lowrightpoint'}}, {'saved': False, 'shot_type': 'slap', 'distance': 57, 'clock': '11:24', 'time_in_game': 1716, 'location': {'coord_x': 696, 'coord_y': 888, 'action_area': 'leftpoint'}}, {'saved': False, 'shot_type': 'wrist', 'distance': 57, 'clock': '10:50', 'time_in_game': 1750, 'location': {'coord_x': 696, 'coord_y': 888, 'action_area': 'leftpoint'}}, {'saved': True, 'shot_type': 'snap', 'distance': 48, 'clock': '9:07', 'time_in_game': 1853, 'location': {'coord_x': 528, 'coord_y': 924, 'action_area': 'lowleftpoint'}}, {'saved': False, 'shot_type': 'backhand', 'distance': 1, 'clock': '6:57', 'time_in_game': 1983, 'location': {'coord_x': 132, 'coord_y': 504, 'action_area': 'lowslot'}}, {'saved': True, 'shot_type': 'wrist', 'distance': 32, 'clock': '6:21', 'time_in_game': 2019, 'location': {'coord_x': 516, 'coord_y': 444, 'action_area': 'lowcenterpoint'}}, {'saved': False, 'shot_type': 'wrist', 'distance': 19, 'clock': '3:56', 'time_in_game': 2164, 'location': {'coord_x': 348, 'coord_y': 456, 'action_area': 'highslot'}}, {'saved': False, 'shot_type': 'snap', 'distance': 30, 'clock': '2:30', 'time_in_game': 2250, 'location': {'coord_x': 360, 'coord_y': 228, 'action_area': 'outsiderightcircle'}}, {'saved': True, 'shot_type': 'wrist', 'distance': 22, 'clock': '2:14', 'time_in_game': 2266, 'location': {'coord_x': 276, 'coord_y': 720, 'action_area': 'leftslot'}}, {'saved': True, 'shot_type': 'slap', 'distance': 40, 'clock': '1:56', 'time_in_game': 2284, 'location': {'coord_x': 432, 'coord_y': 876, 'action_area': 'outsideleftcircle'}}, {'saved': False, 'shot_type': 'slap', 'distance': 57, 'clock': '1:46', 'time_in_game': 2294, 'location': {'coord_x': 804, 'coord_y': 612, 'action_area': 'centerpoint'}}, {'saved': True, 'shot_type': 'wrap-around', 'distance': 6, 'clock': '1:39', 'time_in_game': 2301, 'location': {'coord_x': 96, 'coord_y': 432, 'action_area': 'downlow'}}, {'saved': True, 'shot_type': 'snap', 'distance': 36, 'clock': '17:06', 'time_in_game': 2574, 'location': {'coord_x': 1860, 'coord_y': 684, 'action_area': 'lowrightpoint'}}, {'saved': True, 'shot_type': 'wrist', 'distance': 15, 'clock': '16:39', 'time_in_game': 2601, 'location': {'coord_x': 2064, 'coord_y': 504, 'action_area': 'highslot'}}, {'saved': False, 'shot_type': 'snap', 'distance': 56, 'clock': '15:44', 'time_in_game': 2656, 'location': {'coord_x': 1584, 'coord_y': 600, 'action_area': 'centerpoint'}}, {'saved': False, 'shot_type': 'wrist', 'distance': 53, 'clock': '15:10', 'time_in_game': 2690, 'location': {'coord_x': 1704, 'coord_y': 828, 'action_area': 'rightpoint'}}, {'saved': True, 'shot_type': 'snap', 'distance': 10, 'clock': '13:20', 'time_in_game': 2800, 'location': {'coord_x': 2328, 'coord_y': 612, 'action_area': 'downlow'}}, {'saved': False, 'shot_type': 'backhand', 'distance': 3, 'clock': '13:17', 'time_in_game': 2803, 'location': {'coord_x': 2256, 'coord_y': 540, 'action_area': 'lowslot'}}, {'saved': False, 'shot_type': 'snap', 'distance': 43, 'clock': '12:22', 'time_in_game': 2858, 'location': {'coord_x': 1764, 'coord_y': 288, 'action_area': 'leftpoint'}}, {'saved': False, 'shot_type': 'snap', 'distance': 21, 'clock': '11:06', 'time_in_game': 2934, 'location': {'coord_x': 2088, 'coord_y': 696, 'action_area': 'rightslot'}}, {'saved': False, 'shot_type': 'backhand', 'distance': 28, 'clock': '10:44', 'time_in_game': 2956, 'location': {'coord_x': 1992, 'coord_y': 276, 'action_area': 'insideleftcircle'}}, {'saved': False, 'shot_type': 'wrist', 'distance': 42, 'clock': '9:43', 'time_in_game': 3017, 'location': {'coord_x': 1932, 'coord_y': 108, 'action_area': 'outsideleftcircle'}}, {'saved': False, 'shot_type': 'wrist', 'distance': 63, 'clock': '9:35', 'time_in_game': 3025, 'location': {'coord_x': 1644, 'coord_y': 48, 'action_area': 'leftpoint'}}, {'saved': False, 'shot_type': 'wrist', 'distance': 7, 'clock': '9:20', 'time_in_game': 3040, 'location': {'coord_x': 2172, 'coord_y': 456, 'action_area': 'lowslot'}}, {'saved': True, 'shot_type': 'snap', 'distance': 40, 'clock': '9:16', 'time_in_game': 3044, 'location': {'coord_x': 1764, 'coord_y': 564, 'action_area': 'centerpoint'}}, {'saved': False, 'shot_type': 'tip-in', 'distance': 10, 'clock': '8:06', 'time_in_game': 3114, 'location': {'coord_x': 2124, 'coord_y': 528, 'action_area': 'slot'}}, {'saved': False, 'shot_type': 'snap', 'distance': 21, 'clock': '6:39', 'time_in_game': 3201, 'location': {'coord_x': 2028, 'coord_y': 636, 'action_area': 'insiderightcircle'}}, {'saved': False, 'shot_type': 'snap', 'distance': 18, 'clock': '6:05', 'time_in_game': 3235, 'location': {'coord_x': 2028, 'coord_y': 492, 'action_area': 'highslot'}}, {'saved': True, 'shot_type': 'snap', 'distance': 35, 'clock': '5:43', 'time_in_game': 3257, 'location': {'coord_x': 1932, 'coord_y': 228, 'action_area': 'outsideleftcircle'}}, {'saved': False, 'shot_type': 'snap', 'distance': 62, 'clock': '5:27', 'time_in_game': 3273, 'location': {'coord_x': 1656, 'coord_y': 948, 'action_area': 'rightpoint'}}, {'saved': True, 'shot_type': 'tip-in', 'distance': 86, 'clock': '5:08', 'time_in_game': 3292, 'location': {'coord_x': 1284, 'coord_y': 132, 'action_area': 'neutralzone'}}, {'saved': False, 'shot_type': 'wrist', 'distance': 8, 'clock': '4:51', 'time_in_game': 3309, 'location': {'coord_x': 2184, 'coord_y': 576, 'action_area': 'lowslot'}}, {'saved': False, 'shot_type': 'tip-in', 'distance': 9, 'clock': '4:36', 'time_in_game': 3324, 'location': {'coord_x': 2148, 'coord_y': 468, 'action_area': 'slot'}}, {'saved': False, 'shot_type': 'wrist', 'distance': 28, 'clock': '4:28', 'time_in_game': 3332, 'location': {'coord_x': 1920, 'coord_y': 468, 'action_area': 'highslot'}}, {'saved': False, 'shot_type': 'snap', 'distance': 5, 'clock': '4:19', 'time_in_game': 3341, 'location': {'coord_x': 2196, 'coord_y': 480, 'action_area': 'lowslot'}}, {'saved': False, 'shot_type': 'wrist', 'distance': 143, 'clock': '00:49', 'time_in_game': 3551, 'location': {'coord_x': 600, 'coord_y': 24, 'action_area': 'defensivezone'}}]}}\n"
     ]
    }
   ],
   "source": [
    "r = parseGameById('4c9a706e-b53d-484c-95a3-a9cd7105bc63')\n",
    "#print(r)"
   ]
  },
  {
   "cell_type": "markdown",
   "id": "48c245ed",
   "metadata": {},
   "source": [
    "### Loop"
   ]
  },
  {
   "cell_type": "code",
   "execution_count": 14,
   "id": "a1568f82",
   "metadata": {},
   "outputs": [],
   "source": [
    "def getRoundGroupData( groupItem, round ):\n",
    "    \n",
    "    teams = groupItem.teams\n",
    "    team_a = teams[0]\n",
    "    team_b = teams[1]\n",
    "    \n",
    "    _groupReport = {\n",
    "        'team_a': team_a,\n",
    "        'team_b': team_b,\n",
    "        'round': round,\n",
    "        'games_reports':[]\n",
    "    }\n",
    "        \n",
    "    num_games = len(groupItem.games)\n",
    "    \n",
    "    for gameItem in groupItem.games:\n",
    "        game_score = gameItem.score.split(':')\n",
    "        \n",
    "        score_a = game_score[0]\n",
    "        score_b = game_score[1]\n",
    "\n",
    "        game_id = gameItem.id\n",
    "        \n",
    "        reportData = parseGameById( game_id )\n",
    "        \n",
    "        dateNums = gameItem.date.split('.')\n",
    "        x = datetime.datetime(2024, int(dateNums[1]), int(dateNums[0]))\n",
    "        dateFormated = x.strftime(\"%Y-%m-%d\")\n",
    "        \n",
    "        _reportObj = {\n",
    "            'schedule_data': {\n",
    "                'game': gameItem.game,\n",
    "                'id': gameItem.id,\n",
    "                'date': gameItem.date,\n",
    "                'date_format': dateFormated\n",
    "            },\n",
    "            'report': reportData\n",
    "        }\n",
    "        \n",
    "        _groupReport['games_reports'].append(_reportObj)\n",
    "        \n",
    "    file_name = f\"./output/reports/widget-shots-distance/widget-shots-distance_{team_a}-{team_b}.json\"\n",
    "    with open(file_name, \"w\") as outfile:\n",
    "        json.dump(_groupReport, outfile, indent=2)\n",
    "    \n",
    "    return _groupReport"
   ]
  },
  {
   "cell_type": "markdown",
   "id": "ad58a73f",
   "metadata": {},
   "source": [
    "# Init"
   ]
  },
  {
   "cell_type": "code",
   "execution_count": 21,
   "id": "c8115402",
   "metadata": {},
   "outputs": [],
   "source": [
    "# Change this and run:  0,1,2\n",
    "roundIdx = 2 \n",
    "\n",
    "roundItem = schedule.rounds[roundIdx]\n",
    "round = roundItem.round\n",
    "\n",
    "for groupItem in roundItem.groups:\n",
    "    group_report = getRoundGroupData(groupItem, round)"
   ]
  },
  {
   "cell_type": "code",
   "execution_count": null,
   "id": "3856a0bf",
   "metadata": {},
   "outputs": [],
   "source": []
  },
  {
   "cell_type": "code",
   "execution_count": null,
   "id": "e9199973",
   "metadata": {},
   "outputs": [],
   "source": []
  }
 ],
 "metadata": {
  "kernelspec": {
   "display_name": "Python 3 (ipykernel)",
   "language": "python",
   "name": "python3"
  },
  "language_info": {
   "codemirror_mode": {
    "name": "ipython",
    "version": 3
   },
   "file_extension": ".py",
   "mimetype": "text/x-python",
   "name": "python",
   "nbconvert_exporter": "python",
   "pygments_lexer": "ipython3",
   "version": "3.9.13"
  }
 },
 "nbformat": 4,
 "nbformat_minor": 5
}

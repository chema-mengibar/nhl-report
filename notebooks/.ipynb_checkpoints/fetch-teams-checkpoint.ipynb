{
 "cells": [
  {
   "cell_type": "code",
   "execution_count": 1,
   "id": "7508400d",
   "metadata": {},
   "outputs": [],
   "source": [
    "import requests\n",
    "import json\n"
   ]
  },
  {
   "cell_type": "code",
   "execution_count": 2,
   "id": "3efd6c85",
   "metadata": {},
   "outputs": [],
   "source": [
    "key = 'WXGppQVW664XkWxlZcZj8U4XvBi2IzLaYOvV0Y8e' # https://developer.sportradar.com/apps/mykeys"
   ]
  },
  {
   "cell_type": "code",
   "execution_count": 6,
   "id": "a31b9462",
   "metadata": {},
   "outputs": [],
   "source": [
    "teams = {\n",
    "    \"panthers\": \"4418464d-0f24-11e2-8525-18a905767e44\",\n",
    "    \"oilers\": \"4415ea6c-0f24-11e2-8525-18a905767e44\"\n",
    "}"
   ]
  },
  {
   "cell_type": "code",
   "execution_count": 10,
   "id": "6bba27a8",
   "metadata": {},
   "outputs": [],
   "source": [
    "teamName = 'oilers'"
   ]
  },
  {
   "cell_type": "code",
   "execution_count": 11,
   "id": "13af5f00",
   "metadata": {},
   "outputs": [],
   "source": [
    "team_id = teams[teamName]\n",
    "team_url = f\"https://api.sportradar.com/nhl/trial/v7/en/teams/{team_id}/profile.json?api_key={key}\"\n",
    "\n",
    "team_response = requests.get(team_url)\n",
    "\n",
    "file_name = f\"./output/teams/team_{teamName}.json\"\n",
    "with open(file_name, \"w\") as outfile:\n",
    "    json.dump(team_response.json(), outfile, indent=2)"
   ]
  }
 ],
 "metadata": {
  "kernelspec": {
   "display_name": "Python 3 (ipykernel)",
   "language": "python",
   "name": "python3"
  },
  "language_info": {
   "codemirror_mode": {
    "name": "ipython",
    "version": 3
   },
   "file_extension": ".py",
   "mimetype": "text/x-python",
   "name": "python",
   "nbconvert_exporter": "python",
   "pygments_lexer": "ipython3",
   "version": "3.9.13"
  }
 },
 "nbformat": 4,
 "nbformat_minor": 5
}

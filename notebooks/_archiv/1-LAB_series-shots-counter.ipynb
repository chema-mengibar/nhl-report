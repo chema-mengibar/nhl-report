{
 "cells": [
  {
   "cell_type": "markdown",
   "id": "d6a43c82",
   "metadata": {},
   "source": [
    "# Docs\n",
    "https://developer.sportradar.com/ice-hockey/reference/nhl-game-play-by-play\n",
    "\n",
    "### event-types\n",
    "\n",
    "https://developer.sportradar.com/ice-hockey/reference/nhl-faqs#event-types\n",
    "\n",
    "- gamesetup\n",
    "- substitution\n",
    "- faceoff\n",
    "- hit\n",
    "- shotsaved\n",
    "- giveaway\n",
    "- shotmissed\n",
    "- stoppage\n",
    "- penalty\n",
    "- goal\n",
    "- takeaway\n",
    "- \n",
    "\n",
    "### shot_type\n",
    "- tip-in , tip\n",
    "- wrist\n",
    "- backhand\n",
    "- deflected\n",
    "- slap\n",
    "- snap\n",
    "- bat\n",
    "- wrap-around\n",
    "- cradle\n",
    "- poke\n",
    "- between_legs"
   ]
  },
  {
   "cell_type": "code",
   "execution_count": 1,
   "id": "89e57693",
   "metadata": {},
   "outputs": [],
   "source": [
    "import json;"
   ]
  },
  {
   "cell_type": "code",
   "execution_count": 4,
   "id": "4cbdc779",
   "metadata": {},
   "outputs": [],
   "source": [
    "%run lib.ipynb"
   ]
  },
  {
   "cell_type": "code",
   "execution_count": 5,
   "id": "6d589ae5",
   "metadata": {},
   "outputs": [],
   "source": [
    "seconds_in_period = timeToSeconds('20:00')\n",
    "seconds_in_overtime = timeToSeconds('20:00')"
   ]
  },
  {
   "cell_type": "markdown",
   "id": "fa3d6ed8",
   "metadata": {},
   "source": [
    "## REPORT"
   ]
  },
  {
   "cell_type": "code",
   "execution_count": 52,
   "id": "bb98d545",
   "metadata": {},
   "outputs": [
    {
     "name": "stdout",
     "output_type": "stream",
     "text": [
      "8f36d70b-a463-452e-9f02-65dd5d37d2c9\n"
     ]
    }
   ],
   "source": [
    "gameFileId = '8f36d70b-a463-452e-9f02-65dd5d37d2c9'\n",
    "\n",
    "with open( f\"./output/games/game_{gameFileId}.json\") as f:\n",
    "    data = json.load(f)\n",
    "\n",
    "print(data['id'])\n",
    "gameo = DictObj(data)\n"
   ]
  },
  {
   "cell_type": "code",
   "execution_count": 72,
   "id": "5597acaa",
   "metadata": {},
   "outputs": [
    {
     "name": "stdout",
     "output_type": "stream",
     "text": [
      "1\n",
      "2\n",
      "3\n",
      "4\n",
      "5\n"
     ]
    }
   ],
   "source": [
    "\n",
    "home_counter = []\n",
    "away_counter = []\n",
    "\n",
    "home_reference = gameo.home.reference\n",
    "away_reference = gameo.away.reference\n",
    "\n",
    "report = {\n",
    "    'teams':{\n",
    "        'home':{\n",
    "            'reference': gameo.home.reference,\n",
    "            'name': gameo.home.name,\n",
    "            'market': gameo.home.market,\n",
    "        },\n",
    "        'away':{\n",
    "            'reference': gameo.away.reference,\n",
    "            'name': gameo.away.name,\n",
    "            'market': gameo.away.market,\n",
    "        }\n",
    "    },\n",
    "    'scoring':{\n",
    "        'total':{\n",
    "            'home': gameo.home.points,\n",
    "            'away': gameo.away.points,\n",
    "        },\n",
    "        'periods':[]\n",
    "    },\n",
    "    'shoots':{}\n",
    "\n",
    "}\n",
    "\n",
    "\n",
    "for period in gameo.periods:\n",
    "    \n",
    "    print(period.sequence)\n",
    "    \n",
    "    scoringObj = {\n",
    "        'home': period.scoring.home.points,\n",
    "        'away': period.scoring.away.points,\n",
    "        'period_sequence':  period.sequence,\n",
    "        'period_number':  period.number,\n",
    "        'period_type':  period.type\n",
    "    }\n",
    "    report['scoring']['periods'].append(scoringObj)\n",
    "    \n",
    "    for event in period.events:\n",
    "          \n",
    "        \n",
    "        if( event.event_type == \"shotmissed\" or  \n",
    "            event.event_type == \"shotsaved\" or \n",
    "            event.event_type == \"goal\" ):\n",
    "\n",
    "            current_len = 0\n",
    "\n",
    "            if(event.attribution.reference == home_reference):\n",
    "                current_len = len(home_counter) + 1\n",
    "            else:\n",
    "                current_len = len(away_counter) + 1\n",
    "               \n",
    "            \n",
    "            secondsPeriodByType = seconds_in_period\n",
    "            \n",
    "            if( period.type == 'overtime'):\n",
    "                 secondsPeriodByType = seconds_in_overtime\n",
    "                    \n",
    "            timeInPeriod = secondsPeriodByType - timeToSeconds(event.clock)\n",
    "            \n",
    "            timeInGame = 0\n",
    "            \n",
    "            if( period.sequence == 1):\n",
    "                timeInGame = timeInPeriod\n",
    "            elif ( period.sequence == 2 or period.sequence == 3):\n",
    "                 timeInGame = ((period.number - 1) * secondsPeriodByType ) + timeInPeriod\n",
    "            else:\n",
    "                # overtime\n",
    "                timeInGame = (seconds_in_period * 3 )  +  ((period.sequence - 4) * seconds_in_overtime ) + timeInPeriod\n",
    "                \n",
    "            obj =  {\n",
    "                'clock_in_period':  event.clock,\n",
    "                'time_game_seconds': timeInGame,\n",
    "                'time_period_seconds':  timeInPeriod ,\n",
    "                'shoot_type':  event.event_type,\n",
    "                'shoot_counter_onclock': current_len,\n",
    "                'period_number':  period.number,\n",
    "                'period_type':  period.type,\n",
    "                'period_sequence':  period.sequence,\n",
    "                'attribution': 'home' if event.attribution.reference == gameo.home.reference else 'away'\n",
    "            }\n",
    "\n",
    "            if(event.attribution.reference == home_reference):\n",
    "                home_counter.append(obj)\n",
    "            else:\n",
    "                away_counter.append(obj)\n",
    "\n",
    "\n",
    "report['shoots'] = {\n",
    "    'home':home_counter,\n",
    "    'away':away_counter,\n",
    "}\n",
    "                \n",
    "# print(report)\n",
    "\n",
    "file_name = f\"./output/reports/shoots-counter/shoots-counter_{gameo.id}.json\"\n",
    "with open(file_name, \"w\") as outfile:\n",
    "    json.dump(report, outfile, indent=2)"
   ]
  },
  {
   "cell_type": "code",
   "execution_count": 17,
   "id": "889c7b9b",
   "metadata": {},
   "outputs": [],
   "source": [
    "# print(event.clock, event.attribution.market, event.event_type , event.details.distance)\n",
    "# print(event.location.coord_x, event.location.coord_x, event.location.action_area) \n",
    "\n",
    "#     print(event.description)\n",
    "#       'zone': event.zone,\n",
    "#     print('---',)\n",
    "#     print('---', )\n",
    "#     print(event.description)\n",
    "#     print(event.details) #shot_type, distance\n",
    "#     print('---', event.attribution.id)\n",
    "#     print('---', event.attribution.id)\n"
   ]
  },
  {
   "cell_type": "code",
   "execution_count": null,
   "id": "c9465d7d",
   "metadata": {},
   "outputs": [],
   "source": []
  }
 ],
 "metadata": {
  "kernelspec": {
   "display_name": "Python 3 (ipykernel)",
   "language": "python",
   "name": "python3"
  },
  "language_info": {
   "codemirror_mode": {
    "name": "ipython",
    "version": 3
   },
   "file_extension": ".py",
   "mimetype": "text/x-python",
   "name": "python",
   "nbconvert_exporter": "python",
   "pygments_lexer": "ipython3",
   "version": "3.9.13"
  }
 },
 "nbformat": 4,
 "nbformat_minor": 5
}

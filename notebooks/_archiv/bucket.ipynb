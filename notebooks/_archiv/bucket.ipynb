{
 "cells": [
  {
   "cell_type": "code",
   "execution_count": 2,
   "id": "3d54c9e1",
   "metadata": {},
   "outputs": [],
   "source": [
    "# all files\n",
    "from os import listdir\n",
    "from os.path import isfile, join\n",
    "\n",
    "gamesDirPath = './output/games'\n",
    "gameFiles = [f for f in listdir(gamesDirPath) if isfile(join(gamesDirPath, f))]"
   ]
  }
 ],
 "metadata": {
  "kernelspec": {
   "display_name": "Python 3 (ipykernel)",
   "language": "python",
   "name": "python3"
  },
  "language_info": {
   "codemirror_mode": {
    "name": "ipython",
    "version": 3
   },
   "file_extension": ".py",
   "mimetype": "text/x-python",
   "name": "python",
   "nbconvert_exporter": "python",
   "pygments_lexer": "ipython3",
   "version": "3.9.13"
  }
 },
 "nbformat": 4,
 "nbformat_minor": 5
}

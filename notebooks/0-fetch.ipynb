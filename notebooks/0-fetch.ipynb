{
 "cells": [
  {
   "cell_type": "code",
   "execution_count": 19,
   "id": "9c614b35",
   "metadata": {},
   "outputs": [],
   "source": [
    "import requests\n",
    "import json\n",
    "import pandas as pd"
   ]
  },
  {
   "cell_type": "code",
   "execution_count": 20,
   "id": "a463e57b",
   "metadata": {},
   "outputs": [],
   "source": [
    "# https://developer.sportradar.com/docs/read/hockey/NHL_v7#schedule\n",
    "# https://developer.sportradar.com/docs/read/hockey/NHL_v7#frequently-asked-questions\n",
    "\n",
    "# https://console.sportradar.com/accounts\n",
    "# https://developer.sportradar.com/getting-started/docs/coverage-information\n",
    "# https://developer.sportradar.com/ice-hockey/reference/nhl-schedule\n"
   ]
  },
  {
   "cell_type": "code",
   "execution_count": 21,
   "id": "577d97eb",
   "metadata": {},
   "outputs": [],
   "source": [
    "key = 'WXGppQVW664XkWxlZcZj8U4XvBi2IzLaYOvV0Y8e' # https://developer.sportradar.com/apps/mykeys"
   ]
  },
  {
   "cell_type": "markdown",
   "id": "37e1ce8d",
   "metadata": {},
   "source": [
    "# Schedule by Day"
   ]
  },
  {
   "cell_type": "code",
   "execution_count": 84,
   "id": "1746dc33",
   "metadata": {},
   "outputs": [],
   "source": [
    "schedule_day_date = '2024/05/29'\n",
    "\n",
    "schedule_day_url = f\"https://api.sportradar.com/nhl/trial/v7/en/games/{schedule_day_date}/schedule.json?api_key={key}\"   \n",
    "schedule_day = requests.get(schedule_day_url)\n",
    "schedule_day.json() \n",
    "\n",
    "file_name = f\"./output/schedule-day/schedule-day_{schedule_day_date.replace('/', '-')}.json\"\n",
    "with open(file_name, \"w\") as outfile:\n",
    "    json.dump(schedule_day.json(), outfile, indent=2)"
   ]
  },
  {
   "cell_type": "markdown",
   "id": "6aca43d8",
   "metadata": {},
   "source": [
    "# Game"
   ]
  },
  {
   "cell_type": "code",
   "execution_count": 42,
   "id": "9ab96a90",
   "metadata": {},
   "outputs": [],
   "source": [
    "\n",
    "game_id = \"4e0a7b20-f312-46b3-aa0e-5763b7a18623\"\n",
    "game_url = f\"https://api.sportradar.us/nhl/trial/v7/en/games/{game_id}/summary.json?api_key={key}\"\n",
    "game_response = requests.get(game_url)\n",
    "game_response.json()\n",
    "file_name = f\"./output/game_{game_id}.json\"\n",
    "with open(file_name, \"w\") as outfile:\n",
    "    json.dump(game_response.json(), outfile, indent=2)"
   ]
  },
  {
   "cell_type": "markdown",
   "id": "cbeb7762",
   "metadata": {},
   "source": [
    "# Play play"
   ]
  },
  {
   "cell_type": "code",
   "execution_count": 95,
   "id": "b2f035c9",
   "metadata": {},
   "outputs": [],
   "source": [
    "games_ids = ['fd560107-a85b-4388-ab0d-655ad022aff7',\n",
    "'e34a1460-41a8-457b-be9c-dec84d640254',\n",
    "'2ac9518a-2269-4171-875c-5287092374fc',\n",
    "'4c9a706e-b53d-484c-95a3-a9cd7105bc63',\n",
    "'3b4636af-c8af-4264-94ba-8b9db910ff0c',\n",
    "'825b2b48-74a6-4088-8aba-68b3c4ac3d0e',\n",
    "'5997930f-3819-4935-bd1d-a72af9197285',\n",
    "'5bb5e41f-ddeb-4f62-81d0-6838a2566e35',\n",
    "'ed7ab7d8-b51c-4cc5-9f8f-07efd0c3e39d',\n",
    "'1c47e4e0-f9e4-4fdc-bb21-6af587dbb8ed',\n",
    "'d8faeb20-b615-4f7e-ad1a-242f26a04528',\n",
    "'0d4df134-96d0-4682-ad06-864dd91e3afa',\n",
    "'473409c1-db77-40d7-8d3d-650affdf9867',\n",
    "'e1c9e7c1-64a8-45a7-aba8-e114df0b0ac6',\n",
    "'a8d4081b-a19a-4472-a601-dde938f16095',\n",
    "'e00fd532-c67b-4846-ae6b-3d01e0e7d40a',\n",
    "'06b5f401-20ea-4c4b-9290-1d0a6fb02507',\n",
    "'a92b531a-df70-4604-a919-904ee74bc333',\n",
    "'4c9a706e-b53d-484c-95a3-a9cd7105bc63',\n",
    "'3f32baee-ff23-4fa7-87f1-2e5e53dc67ea',\n",
    "'9a740039-bcdd-4629-824f-949549eb7091',\n",
    "'8f29a11c-bde4-4208-9d2b-0e9dec74e1fc',\n",
    "'f55669b2-ed64-44f9-98a2-ac20d1512638',\n",
    "'c936f64a-f651-4d49-ab4e-84e0400738fa',\n",
    "'e7d9a52b-34bb-4ddd-a636-a79a3c3601f5',\n",
    "'000b2223-1847-4479-8fde-3402aa5e9df4',\n",
    "'a0809aa9-87ef-4585-8772-d75aa01b817d',\n",
    "'34046c33-1419-45d7-9b73-90938559cb48',\n",
    "'64caf4c5-4b60-4a09-a4cb-341102af99e5',\n",
    "'e1da10b9-5ff2-474b-99e6-301ef7eb4cee',\n",
    "'2ac9518a-2269-4171-875c-5287092374fc',\n",
    "'7ddc653f-b5c4-44fe-8cf3-2e24ba0da941',\n",
    "'7ddc653f-b5c4-44fe-8cf3-2e24ba0da941',\n",
    "'02501726-a798-4455-a583-f32dcfdae98c',\n",
    "'18d15999-4095-4262-976e-4d2d985099d4',\n",
    "'729e32df-183d-475e-a37c-8c6191fcbefd',\n",
    "'ee1ec51e-bbce-44ee-973e-2975b102751b',\n",
    "'04a92a0a-5155-4eca-beea-43745e27644c',\n",
    "'3373015e-ad83-4cfd-9468-728f91827a60',\n",
    "'e30237bc-de0c-46c6-9a34-ba26d4d4722e',\n",
    "'06b5f401-20ea-4c4b-9290-1d0a6fb02507',\n",
    "'02501726-a798-4455-a583-f32dcfdae98c',\n",
    "'34046c33-1419-45d7-9b73-90938559cb48',\n",
    "'413282bc-8ff9-4e7b-8e9c-d787f403f2dc',\n",
    "'4c9a706e-b53d-484c-95a3-a9cd7105bc63',\n",
    "'97f90c91-347d-4e2b-bff2-b95d5d75d9d0',\n",
    "'2f048a2f-5006-435d-91bd-8f20124df1c1',\n",
    "'e1c9e7c1-64a8-45a7-aba8-e114df0b0ac6',\n",
    "'5997930f-3819-4935-bd1d-a72af9197285',\n",
    "'568c3ab9-7b39-4f22-a80c-d5a045b57b0a',\n",
    "'9b53c1bd-db8f-4351-8c2b-66ee8af401c6',\n",
    "'cdeade2b-fc13-4014-8b3f-f3384e1a739c',\n",
    "'00e153e0-e13d-4cd8-896f-e1c848c4febc',\n",
    "'0d4df134-96d0-4682-ad06-864dd91e3afa',\n",
    "'fd8be1d7-f572-4f58-8909-69e6a065e1fa',\n",
    "'ed7ab7d8-b51c-4cc5-9f8f-07efd0c3e39d',\n",
    "'d8faeb20-b615-4f7e-ad1a-242f26a04528',\n",
    "'1c58cd96-db53-4a70-ae94-83235ce5db19',\n",
    "'6b00bce7-9ac3-4b79-9ef8-fce625318f4d',\n",
    "'3b4636af-c8af-4264-94ba-8b9db910ff0c',\n",
    "'267c3ef4-e49a-463c-9eb6-eb2523fbc4aa',\n",
    "'8f36d70b-a463-452e-9f02-65dd5d37d2c9',\n",
    "'c3e715bc-dfd1-4e46-beb0-fe012abe9f6a',\n",
    "'4909deea-74b0-4604-973b-530a671ac0d6',\n",
    "'000b2223-1847-4479-8fde-3402aa5e9df4',\n",
    "'e6c482b8-7ec1-4baa-bb0d-f85ab8a52fa5',\n",
    "'6b09ee87-e668-4371-a082-e91eba27bfcd',\n",
    "'40dbf88a-0209-4a70-b319-9735f081d6a2',\n",
    "'cd0be372-99e6-4254-8531-a472194ac7cb',\n",
    "'26dbafbd-767f-42b2-8a6a-9e3fd920f18d',\n",
    "'82000e9e-f2f2-465d-9fa9-fd863efc72f6',\n",
    "'bd6a81c1-3312-4219-a34c-f3afe742aa21',\n",
    "'a667aa25-7b52-454f-a6ee-569aa436f70d',\n",
    "'eca1e1e3-b1f0-4658-bbe1-a832431f77e2',\n",
    "'9f3a556e-997b-49ad-ac69-c111722c27a7',\n",
    "'3f32baee-ff23-4fa7-87f1-2e5e53dc67ea',\n",
    "'8f29a11c-bde4-4208-9d2b-0e9dec74e1fc',\n",
    "'825b2b48-74a6-4088-8aba-68b3c4ac3d0e',\n",
    "'8b5940ca-4154-40ac-a6c3-034edc084e74',\n",
    "'fcb6fdd0-10fa-468f-8ddf-b3d3716af119',\n",
    "'e9544eb0-0b6d-4f6b-ad8f-6e65e7a6d726',\n",
    "'a92b531a-df70-4604-a919-904ee74bc333',\n",
    "'ef3d013d-4ff0-48fc-9c36-1121e5e75ed2',\n",
    "'24c9ccce-601d-4c45-9300-f170e82bb800',\n",
    "'5c492b5b-20df-4307-896d-69223c1d6f1e',\n",
    "'a8d4081b-a19a-4472-a601-dde938f16095',\n",
    "'d5d3b215-31da-41cd-a008-8fdf36e12dfe',\n",
    "'434eefcf-d69b-42fa-b8d9-2159cbd96a19',\n",
    "'6c78dbbb-b580-44f7-b000-d9964beaa371',\n",
    "'7c3872e5-2cf7-4ce0-8e8b-9f20ad531bc5',\n",
    "'506c3ccd-61c1-4170-b19f-751e6ccae992',\n",
    "'499aa087-b75a-4f65-ad9d-bc93a0feaaaa',\n",
    "'e34a1460-41a8-457b-be9c-dec84d640254',\n",
    "'bd61115a-229c-4c54-9fde-f774ff31432b',\n",
    "'729e32df-183d-475e-a37c-8c6191fcbefd',\n",
    "'e30237bc-de0c-46c6-9a34-ba26d4d4722e',\n",
    "'c38ba98f-af04-40ee-b7aa-3cc112f32d95',\n",
    "'aeb8ae96-fb47-49aa-9030-4d60567107f6',\n",
    "'0a5929c0-3ee0-4cdd-83e9-853130a3baf5',\n",
    "'2c31ffd1-58bf-48a1-9c96-f357ee974072',\n",
    "'e1da10b9-5ff2-474b-99e6-301ef7eb4cee',\n",
    "'44a404ce-37b3-4247-9abd-9ea99f14af46',\n",
    "'530f5f18-c1cc-49f8-89b1-19accf6d43b8',\n",
    "'1e7d85f0-c9d0-4c51-b7b7-1207f60c5bba',\n",
    "'972395a5-5a16-4663-ab4b-e40af7deea7e',\n",
    "'0e7ea5a5-3e58-46cf-afa1-2bbd506d5ef6',\n",
    "'0e77d88b-62c4-47d0-8d0e-b9d8fcd7ba59',\n",
    "'dda2b533-c6c2-4c6a-b9c0-5eb3f13e153d',\n",
    "'702a554f-67c6-4628-b468-48c9a642d8ef',\n",
    "'06aa6ee7-b10f-463f-a5dc-beb136825df0',\n",
    "'10c2b293-3adb-4bfa-8955-5b4d21c941ef',\n",
    "'473409c1-db77-40d7-8d3d-650affdf9867',\n",
    "'e00fd532-c67b-4846-ae6b-3d01e0e7d40a',\n",
    "'3a2dd324-e165-405d-9480-b6a9742aef68',\n",
    "'c936f64a-f651-4d49-ab4e-84e0400738fa',\n",
    "'5bb5e41f-ddeb-4f62-81d0-6838a2566e35',\n",
    "'1c47e4e0-f9e4-4fdc-bb21-6af587dbb8ed',\n",
    "'8e9516c5-ab55-4eea-8487-57d5c88dbbe4',\n",
    "'bfdf7998-fc52-47be-b7bc-58caccfd3327',\n",
    "'4e0a7b20-f312-46b3-aa0e-5763b7a18623',\n",
    "'bd8cf25f-8574-4bcd-bae2-28203a1216aa']\n",
    "    \n",
    "    \n",
    "    "
   ]
  },
  {
   "cell_type": "code",
   "execution_count": 109,
   "id": "e7a15889",
   "metadata": {},
   "outputs": [],
   "source": [
    "def getGame(game_id):\n",
    "    play_url = f\"https://api.sportradar.us/nhl/trial/v7/en/games/{game_id}/pbp.json?api_key={key}\"\n",
    "    play_response = requests.get(play_url)\n",
    "    print(game_id)\n",
    "    file_name_play = f\"./output/games/game_{game_id}.json\"\n",
    "    with open(file_name_play, \"w\") as outfile:\n",
    "        json.dump(play_response.json(), outfile, indent=2)"
   ]
  },
  {
   "cell_type": "code",
   "execution_count": 110,
   "id": "f2858551",
   "metadata": {},
   "outputs": [
    {
     "name": "stdout",
     "output_type": "stream",
     "text": [
      "5997930f-3819-4935-bd1d-a72af9197285\n",
      "82000e9e-f2f2-465d-9fa9-fd863efc72f6\n",
      "97f90c91-347d-4e2b-bff2-b95d5d75d9d0\n"
     ]
    }
   ],
   "source": [
    "for gamesId in games_ids:\n",
    "    getGame( gamesId )\n",
    "\n"
   ]
  }
 ],
 "metadata": {
  "kernelspec": {
   "display_name": "Python 3 (ipykernel)",
   "language": "python",
   "name": "python3"
  },
  "language_info": {
   "codemirror_mode": {
    "name": "ipython",
    "version": 3
   },
   "file_extension": ".py",
   "mimetype": "text/x-python",
   "name": "python",
   "nbconvert_exporter": "python",
   "pygments_lexer": "ipython3",
   "version": "3.9.13"
  }
 },
 "nbformat": 4,
 "nbformat_minor": 5
}

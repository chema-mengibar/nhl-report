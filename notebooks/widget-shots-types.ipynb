{
 "cells": [
  {
   "cell_type": "code",
   "execution_count": 21,
   "id": "9440f102",
   "metadata": {},
   "outputs": [],
   "source": [
    "import json\n",
    "import datetime"
   ]
  },
  {
   "cell_type": "code",
   "execution_count": 22,
   "id": "104c4995",
   "metadata": {},
   "outputs": [],
   "source": [
    "%run lib.ipynb"
   ]
  },
  {
   "cell_type": "code",
   "execution_count": 23,
   "id": "5f7723c5",
   "metadata": {},
   "outputs": [],
   "source": [
    "with open( \"./data/playoff-schedule.json\") as f:\n",
    "    schedule_data = json.load(f)\n",
    "\n",
    "schedule = DictObj(schedule_data)"
   ]
  },
  {
   "cell_type": "markdown",
   "id": "97f325f1",
   "metadata": {},
   "source": [
    "### Game Parser"
   ]
  },
  {
   "cell_type": "code",
   "execution_count": 71,
   "id": "9ffb1c26",
   "metadata": {},
   "outputs": [],
   "source": [
    "def parseGameById( gameFileId ):\n",
    "\n",
    "    with open( f\"./output/games/game_{gameFileId}.json\") as f:\n",
    "        data = json.load(f)\n",
    "\n",
    "    _gameObj = DictObj(data)\n",
    "    \n",
    "    home_reference = _gameObj.home.reference\n",
    "    away_reference = _gameObj.away.reference\n",
    "    \n",
    "    report = {\n",
    "        'periods': _gameObj.period,\n",
    "        'teams':{\n",
    "            'home': _gameObj.home.name,\n",
    "            'away': _gameObj.away.name,\n",
    "        },\n",
    "        'score':{\n",
    "            'home': _gameObj.home.points,\n",
    "            'away': _gameObj.away.points,\n",
    "        },\n",
    "        'shots':{\n",
    "            'home' : {},\n",
    "            'away' : {},\n",
    "        }\n",
    "        \n",
    "    }\n",
    "    \n",
    "    _shots_home = []\n",
    "    _shots_away = []\n",
    "    \n",
    "    #step: periods - events\n",
    "    for period in _gameObj.periods:\n",
    "        for event in period.events:\n",
    "            \n",
    "            if( event.event_type != \"shotmissed\" and  \n",
    "                event.event_type != \"shotsaved\" and \n",
    "                event.event_type != \"penaltygoal\" and\n",
    "                event.event_type != \"emptynetgoal\" and \n",
    "               event.event_type != \"penaltyshotmissed\" and \n",
    "               event.event_type != \"penaltyshotsaved\" and \n",
    "                event.event_type != \"owngoal\" and \n",
    "                event.event_type != \"goal\" ):\n",
    "                continue\n",
    "                \n",
    "            \n",
    "            #step: time calculate\n",
    "            secondsPeriodByType = seconds_in_period\n",
    "\n",
    "            if( period.type == 'overtime'):\n",
    "                 secondsPeriodByType = seconds_in_overtime\n",
    "                        \n",
    "            timeInPeriod = secondsPeriodByType - timeToSeconds(event.clock)\n",
    "            timeInGame = 0\n",
    "                \n",
    "            if( period.sequence == 1):\n",
    "                timeInGame = timeInPeriod\n",
    "            elif ( period.sequence == 2 or period.sequence == 3):\n",
    "                 timeInGame = ((period.number - 1) * secondsPeriodByType ) + timeInPeriod\n",
    "            else:\n",
    "                #step: overtime\n",
    "                timeInGame = (seconds_in_period * 3 )  +  ((period.sequence - 4) * seconds_in_overtime ) + timeInPeriod\n",
    "                \n",
    "            #step: time calculate    \n",
    "            _shot = {\n",
    "                'saved': event.event_type == \"shotsaved\",\n",
    "                'shot_type': '',\n",
    "                'goal_zone': '',\n",
    "                'time_in_game': timeInGame,\n",
    "            }\n",
    "            \n",
    "            if(hasattr(event.details, 'shot_type')):\n",
    "                _shot['shot_type'] = event.details.shot_type\n",
    "            if(hasattr(event.details, 'goal_zone')):\n",
    "                _shot['goal_zone'] = event.details.goal_zone\n",
    "                    \n",
    "            if(event.attribution.reference == home_reference):\n",
    "                #step: home\n",
    "                _shots_home.append(_shot)\n",
    "            else:\n",
    "                #step: away\n",
    "                _shots_away.append(_shot)\n",
    "            \n",
    "        #step: join by type\n",
    "        \n",
    "        home_dict = {}\n",
    "        away_dict = {}\n",
    "        \n",
    "        for homeShot in _shots_home:\n",
    "            key = homeShot['shot_type']\n",
    "            if( key in home_dict):\n",
    "                home_dict[key] += 1\n",
    "            else:\n",
    "                home_dict[key] = 1\n",
    "                \n",
    "        for awayShot in _shots_away:\n",
    "            key = awayShot['shot_type']\n",
    "            if( key in away_dict):\n",
    "                away_dict[key] += 1\n",
    "            else:\n",
    "                away_dict[key] = 1\n",
    "   \n",
    "        \n",
    "    #step: add to report\n",
    "   \n",
    "    report['shots']['home'] = home_dict\n",
    "    report['shots']['away'] = away_dict\n",
    "\n",
    "    return report\n",
    "    \n",
    "    "
   ]
  },
  {
   "cell_type": "code",
   "execution_count": 72,
   "id": "cec6f664",
   "metadata": {},
   "outputs": [
    {
     "data": {
      "text/plain": [
       "{'periods': 3,\n",
       " 'teams': {'home': 'Hurricanes', 'away': 'Rangers'},\n",
       " 'score': {'home': 3, 'away': 5},\n",
       " 'shots': {'home': {'wrist': 33,\n",
       "   'slap': 5,\n",
       "   'snap': 15,\n",
       "   'backhand': 7,\n",
       "   'tip-in': 2,\n",
       "   'wrap-around': 1},\n",
       "  'away': {'wrist': 30,\n",
       "   'slap': 6,\n",
       "   'snap': 18,\n",
       "   'backhand': 5,\n",
       "   'tip-in': 6,\n",
       "   'deflected': 1,\n",
       "   'wrap-around': 1}}}"
      ]
     },
     "execution_count": 72,
     "metadata": {},
     "output_type": "execute_result"
    }
   ],
   "source": [
    "parseGameById('4c9a706e-b53d-484c-95a3-a9cd7105bc63')"
   ]
  },
  {
   "cell_type": "markdown",
   "id": "48c245ed",
   "metadata": {},
   "source": [
    "### Loop"
   ]
  },
  {
   "cell_type": "code",
   "execution_count": 73,
   "id": "a1568f82",
   "metadata": {},
   "outputs": [],
   "source": [
    "def getRoundGroupData( groupItem, round ):\n",
    "    \n",
    "    teams = groupItem.teams\n",
    "    team_a = teams[0]\n",
    "    team_b = teams[1]\n",
    "    \n",
    "    _groupReport = {\n",
    "        'team_a': team_a,\n",
    "        'team_b': team_b,\n",
    "        'round': round,\n",
    "        'games_reports':[]\n",
    "    }\n",
    "        \n",
    "    num_games = len(groupItem.games)\n",
    "    \n",
    "    for gameItem in groupItem.games:\n",
    "        game_score = gameItem.score.split(':')\n",
    "        \n",
    "        score_a = game_score[0]\n",
    "        score_b = game_score[1]\n",
    "\n",
    "        game_id = gameItem.id\n",
    "        \n",
    "        reportData = parseGameById( game_id )\n",
    "        \n",
    "        dateNums = gameItem.date.split('.')\n",
    "        x = datetime.datetime(2024, int(dateNums[1]), int(dateNums[0]))\n",
    "        dateFormated = x.strftime(\"%Y-%m-%d\")\n",
    "        \n",
    "        _reportObj = {\n",
    "            'schedule_data': {\n",
    "                'game': gameItem.game,\n",
    "                'id': gameItem.id,\n",
    "                'date': gameItem.date,\n",
    "                'date_format': dateFormated\n",
    "            },\n",
    "            'report': reportData\n",
    "        }\n",
    "        \n",
    "        _groupReport['games_reports'].append(_reportObj)\n",
    "        \n",
    "    file_name = f\"./output/reports/widget-shots-types/widget-shots-types_{team_a}-{team_b}.json\"\n",
    "    with open(file_name, \"w\") as outfile:\n",
    "        json.dump(_groupReport, outfile, indent=2)\n",
    "    \n",
    "    return _groupReport"
   ]
  },
  {
   "cell_type": "markdown",
   "id": "ad58a73f",
   "metadata": {},
   "source": [
    "# Init"
   ]
  },
  {
   "cell_type": "code",
   "execution_count": 76,
   "id": "c8115402",
   "metadata": {},
   "outputs": [],
   "source": [
    "# Change this and run:  0,1,2\n",
    "roundIdx = 0 \n",
    "\n",
    "roundItem = schedule.rounds[roundIdx]\n",
    "round = roundItem.round\n",
    "\n",
    "for groupItem in roundItem.groups:\n",
    "    group_report = getRoundGroupData(groupItem, round)"
   ]
  },
  {
   "cell_type": "code",
   "execution_count": null,
   "id": "3856a0bf",
   "metadata": {},
   "outputs": [],
   "source": []
  },
  {
   "cell_type": "code",
   "execution_count": null,
   "id": "e9199973",
   "metadata": {},
   "outputs": [],
   "source": []
  }
 ],
 "metadata": {
  "kernelspec": {
   "display_name": "Python 3 (ipykernel)",
   "language": "python",
   "name": "python3"
  },
  "language_info": {
   "codemirror_mode": {
    "name": "ipython",
    "version": 3
   },
   "file_extension": ".py",
   "mimetype": "text/x-python",
   "name": "python",
   "nbconvert_exporter": "python",
   "pygments_lexer": "ipython3",
   "version": "3.9.13"
  }
 },
 "nbformat": 4,
 "nbformat_minor": 5
}

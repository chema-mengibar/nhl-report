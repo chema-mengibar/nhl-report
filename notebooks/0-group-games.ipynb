{
 "cells": [
  {
   "cell_type": "code",
   "execution_count": 5,
   "id": "41461452",
   "metadata": {},
   "outputs": [],
   "source": [
    "import json\n",
    "from os import listdir\n",
    "from os.path import isfile, join\n"
   ]
  },
  {
   "cell_type": "code",
   "execution_count": 6,
   "id": "b449b38f",
   "metadata": {},
   "outputs": [],
   "source": [
    "gamesDirPath = './output/games'\n",
    "gameFiles = [f for f in listdir(gamesDirPath) if isfile(join(gamesDirPath, f))]"
   ]
  },
  {
   "cell_type": "code",
   "execution_count": 11,
   "id": "cd09b6c0",
   "metadata": {},
   "outputs": [
    {
     "name": "stdout",
     "output_type": "stream",
     "text": [
      "unnecessary\n"
     ]
    }
   ],
   "source": [
    "\n",
    "with open( f\"./output/games/{gameFiles[0]}\") as f:\n",
    "    gameData = json.load(f)\n",
    "    \n",
    "if(gameData['status'] == 'closed'):\n",
    "    start_time =  gameData['start_time']\n",
    "    home_name =  gameData['home']['name']\n",
    "    away_name =  gameData['away']['name']"
   ]
  }
 ],
 "metadata": {
  "kernelspec": {
   "display_name": "Python 3 (ipykernel)",
   "language": "python",
   "name": "python3"
  },
  "language_info": {
   "codemirror_mode": {
    "name": "ipython",
    "version": 3
   },
   "file_extension": ".py",
   "mimetype": "text/x-python",
   "name": "python",
   "nbconvert_exporter": "python",
   "pygments_lexer": "ipython3",
   "version": "3.9.13"
  }
 },
 "nbformat": 4,
 "nbformat_minor": 5
}

{
 "cells": [
  {
   "cell_type": "code",
   "execution_count": 33,
   "id": "24caf447",
   "metadata": {},
   "outputs": [],
   "source": [
    "import json\n",
    "import datetime"
   ]
  },
  {
   "cell_type": "code",
   "execution_count": 14,
   "id": "af2e1964",
   "metadata": {},
   "outputs": [],
   "source": [
    "%run lib.ipynb"
   ]
  },
  {
   "cell_type": "code",
   "execution_count": 15,
   "id": "f0980d79",
   "metadata": {},
   "outputs": [],
   "source": [
    "with open( \"./data/playoff-schedule.json\") as f:\n",
    "    schedule_data = json.load(f)\n",
    "\n",
    "schedule = DictObj(schedule_data)"
   ]
  },
  {
   "cell_type": "markdown",
   "id": "6b481ea9",
   "metadata": {},
   "source": [
    "### Game Parser"
   ]
  },
  {
   "cell_type": "code",
   "execution_count": 29,
   "id": "22d5d632",
   "metadata": {},
   "outputs": [],
   "source": [
    "def parseGameById( gameFileId ):\n",
    "        \n",
    "    # gameFileId = '8f36d70b-a463-452e-9f02-65dd5d37d2c9'\n",
    "\n",
    "    with open( f\"./output/games/game_{gameFileId}.json\") as f:\n",
    "        data = json.load(f)\n",
    "\n",
    "    _gameObj = DictObj(data)\n",
    "    \n",
    "    home_reference = _gameObj.home.reference\n",
    "    away_reference = _gameObj.away.reference\n",
    "    \n",
    "    report = {\n",
    "        'periods': _gameObj.period,\n",
    "        'teams':{\n",
    "            'home': _gameObj.home.name,\n",
    "            'away': _gameObj.away.name,\n",
    "        },\n",
    "        'score':{\n",
    "            'home': _gameObj.home.points,\n",
    "            'away': _gameObj.away.points,\n",
    "        },\n",
    "        'shots':{\n",
    "            'home' : {\n",
    "                'shotsaved': 0,\n",
    "                'shotmissed': 0\n",
    "            },\n",
    "            'away' : {\n",
    "                'shotsaved': 0,\n",
    "                'shotmissed': 0\n",
    "            },\n",
    "        }\n",
    "        \n",
    "    }\n",
    "    \n",
    "    home_shotssaved = 0\n",
    "    home_shotmissed = 0\n",
    "    \n",
    "    away_shotssaved = 0\n",
    "    away_shotmissed = 0\n",
    "    \n",
    "    # periods - events\n",
    "    for period in _gameObj.periods:\n",
    "        for event in period.events:\n",
    "            \n",
    "            if( event.event_type != \"shotmissed\" and  event.event_type != \"shotsaved\" ):\n",
    "                continue\n",
    "                    \n",
    "            if(event.attribution.reference == home_reference):\n",
    "                if( event.event_type == \"shotsaved\"  ):\n",
    "                    home_shotssaved += 1\n",
    "                if( event.event_type == \"shotmissed\" ):\n",
    "                    home_shotmissed += 1\n",
    "            else:\n",
    "                if( event.event_type == \"shotsaved\"  ):\n",
    "                    away_shotssaved += 1\n",
    "                if( event.event_type == \"shotmissed\" ):\n",
    "                    away_shotmissed += 1\n",
    "                    \n",
    "    report['shots']['home']['shotsaved'] = home_shotssaved\n",
    "    report['shots']['home']['shotmissed'] = home_shotmissed\n",
    "    report['shots']['away']['shotsaved'] = away_shotssaved\n",
    "    report['shots']['away']['shotmissed'] = away_shotmissed\n",
    "\n",
    "    \n",
    "    return report\n",
    "    \n",
    "    "
   ]
  },
  {
   "cell_type": "code",
   "execution_count": 30,
   "id": "cfe1e87a",
   "metadata": {},
   "outputs": [
    {
     "name": "stdout",
     "output_type": "stream",
     "text": [
      "{'periods': 3, 'teams': {'home': 'Hurricanes', 'away': 'Rangers'}, 'score': {'home': 3, 'away': 5}, 'shots': {'home': {'shotsaved': 33, 'shotmissed': 27}, 'away': {'shotsaved': 19, 'shotmissed': 43}}}\n"
     ]
    }
   ],
   "source": [
    "r = parseGameById('4c9a706e-b53d-484c-95a3-a9cd7105bc63')\n",
    "print(r)"
   ]
  },
  {
   "cell_type": "markdown",
   "id": "a380bbb5",
   "metadata": {},
   "source": [
    "### Loop"
   ]
  },
  {
   "cell_type": "code",
   "execution_count": 36,
   "id": "2578f2d0",
   "metadata": {},
   "outputs": [],
   "source": [
    "def getRoundGroupData( groupItem, round ):\n",
    "    \n",
    "    teams = groupItem.teams\n",
    "    team_a = teams[0]\n",
    "    team_b = teams[1]\n",
    "    \n",
    "    _groupReport = {\n",
    "        'team_a': team_a,\n",
    "        'team_b': team_b,\n",
    "        'round': round,\n",
    "        'games_reports':[]\n",
    "    }\n",
    "        \n",
    "    num_games = len(groupItem.games)\n",
    "    \n",
    "    for gameItem in groupItem.games:\n",
    "        game_score = gameItem.score.split(':')\n",
    "        \n",
    "        score_a = game_score[0]\n",
    "        score_b = game_score[1]\n",
    "\n",
    "        game_id = gameItem.id\n",
    "        \n",
    "        reportData = parseGameById( game_id )\n",
    "        \n",
    "        dateNums = gameItem.date.split('.')\n",
    "        x = datetime.datetime(2024, int(dateNums[1]), int(dateNums[0]))\n",
    "        dateFormated = x.strftime(\"%Y-%m-%d\")\n",
    "        \n",
    "        _reportObj = {\n",
    "            'schedule_data': {\n",
    "                'game': gameItem.game,\n",
    "                'id': gameItem.id,\n",
    "                'date': gameItem.date,\n",
    "                'date_format': dateFormated\n",
    "            },\n",
    "            'report': reportData\n",
    "        }\n",
    "        \n",
    "        _groupReport['games_reports'].append(_reportObj)\n",
    "        \n",
    "    file_name = f\"./output/reports/widget-shots-total/widget-shots-total_{team_a}-{team_b}.json\"\n",
    "    with open(file_name, \"w\") as outfile:\n",
    "        json.dump(_groupReport, outfile, indent=2)\n",
    "    \n",
    "    return _groupReport"
   ]
  },
  {
   "cell_type": "markdown",
   "id": "6d8f047c",
   "metadata": {},
   "source": [
    "# Init"
   ]
  },
  {
   "cell_type": "code",
   "execution_count": 39,
   "id": "124df55d",
   "metadata": {},
   "outputs": [],
   "source": [
    "# Change this and run:  0,1,2\n",
    "roundIdx = 0 \n",
    "\n",
    "roundItem = schedule.rounds[roundIdx]\n",
    "round = roundItem.round\n",
    "\n",
    "for groupItem in roundItem.groups:\n",
    "    group_report = getRoundGroupData(groupItem, round)"
   ]
  },
  {
   "cell_type": "code",
   "execution_count": null,
   "id": "147bbfd6",
   "metadata": {},
   "outputs": [],
   "source": []
  },
  {
   "cell_type": "code",
   "execution_count": null,
   "id": "882ad86a",
   "metadata": {},
   "outputs": [],
   "source": []
  }
 ],
 "metadata": {
  "kernelspec": {
   "display_name": "Python 3 (ipykernel)",
   "language": "python",
   "name": "python3"
  },
  "language_info": {
   "codemirror_mode": {
    "name": "ipython",
    "version": 3
   },
   "file_extension": ".py",
   "mimetype": "text/x-python",
   "name": "python",
   "nbconvert_exporter": "python",
   "pygments_lexer": "ipython3",
   "version": "3.9.13"
  }
 },
 "nbformat": 4,
 "nbformat_minor": 5
}

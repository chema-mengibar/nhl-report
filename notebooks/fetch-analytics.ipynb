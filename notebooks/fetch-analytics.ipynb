{
 "cells": [
  {
   "cell_type": "code",
   "execution_count": 1,
   "id": "6b0b31c4",
   "metadata": {},
   "outputs": [],
   "source": [
    "import requests\n",
    "import json"
   ]
  },
  {
   "cell_type": "code",
   "execution_count": 2,
   "id": "d9b74aef",
   "metadata": {},
   "outputs": [],
   "source": [
    "key = 'WXGppQVW664XkWxlZcZj8U4XvBi2IzLaYOvV0Y8e' # https://developer.sportradar.com/apps/mykeys"
   ]
  },
  {
   "cell_type": "code",
   "execution_count": 4,
   "id": "a5d34e40",
   "metadata": {},
   "outputs": [],
   "source": [
    "games_ids = [\n",
    "    \"bc8b6ed3-35b9-49b6-a08f-bcf5d29d5c26\",\n",
    "]\n",
    "   "
   ]
  },
  {
   "cell_type": "code",
   "execution_count": 5,
   "id": "0ceb3009",
   "metadata": {},
   "outputs": [],
   "source": [
    "for game_id in games_ids:\n",
    "    play_url = f\"https://api.sportradar.com/nhl/trial/v7/en/games/{game_id}/analytics.json?api_key={key}\"\n",
    "    play_response = requests.get(play_url)\n",
    "    file_name_play = f\"./output/analytics/game_analytics_{game_id}.json\"\n",
    "    with open(file_name_play, \"w\") as outfile:\n",
    "        json.dump(play_response.json(), outfile, indent=2)"
   ]
  },
  {
   "cell_type": "code",
   "execution_count": 6,
   "id": "e3e1883c",
   "metadata": {},
   "outputs": [],
   "source": [
    "for game_id in games_ids:\n",
    "    play_url = f\"https://api.sportradar.com/nhl/trial/v7/en/games/{game_id}/boxscore.json?api_key={key}\"\n",
    "    play_response = requests.get(play_url)\n",
    "    file_name_play = f\"./output/analytics/game_boxscore_{game_id}.json\"\n",
    "    with open(file_name_play, \"w\") as outfile:\n",
    "        json.dump(play_response.json(), outfile, indent=2)"
   ]
  },
  {
   "cell_type": "code",
   "execution_count": 7,
   "id": "7c260cc9",
   "metadata": {},
   "outputs": [],
   "source": [
    "for game_id in games_ids:\n",
    "    play_url = f\"https://api.sportradar.com/nhl/trial/v7/en/games/{game_id}/faceoffs.json?api_key={key}\"\n",
    "    play_response = requests.get(play_url)\n",
    "    file_name_play = f\"./output/analytics/game_faceoffs_{game_id}.json\"\n",
    "    with open(file_name_play, \"w\") as outfile:\n",
    "        json.dump(play_response.json(), outfile, indent=2)"
   ]
  },
  {
   "cell_type": "code",
   "execution_count": 8,
   "id": "40b62188",
   "metadata": {},
   "outputs": [],
   "source": [
    "\n",
    "for game_id in games_ids:\n",
    "    play_url = f\"https://api.sportradar.com/nhl/trial/v7/en/games/{game_id}/shot_zones.json?api_key={key}\"\n",
    "    play_response = requests.get(play_url)\n",
    "    file_name_play = f\"./output/analytics/game_shot_zones_{game_id}.json\"\n",
    "    with open(file_name_play, \"w\") as outfile:\n",
    "        json.dump(play_response.json(), outfile, indent=2)\n"
   ]
  },
  {
   "cell_type": "code",
   "execution_count": null,
   "id": "4d067cf9",
   "metadata": {},
   "outputs": [],
   "source": []
  }
 ],
 "metadata": {
  "kernelspec": {
   "display_name": "Python 3 (ipykernel)",
   "language": "python",
   "name": "python3"
  },
  "language_info": {
   "codemirror_mode": {
    "name": "ipython",
    "version": 3
   },
   "file_extension": ".py",
   "mimetype": "text/x-python",
   "name": "python",
   "nbconvert_exporter": "python",
   "pygments_lexer": "ipython3",
   "version": "3.9.7"
  }
 },
 "nbformat": 4,
 "nbformat_minor": 5
}

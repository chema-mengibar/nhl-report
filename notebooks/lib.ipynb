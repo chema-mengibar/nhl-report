{
 "cells": [
  {
   "cell_type": "code",
   "execution_count": 2,
   "id": "3b3f56c0",
   "metadata": {},
   "outputs": [],
   "source": [
    "class DictObj:\n",
    "    def __init__(self, in_dict:dict):\n",
    "        assert isinstance(in_dict, dict)\n",
    "        for key, val in in_dict.items():\n",
    "            if isinstance(val, (list, tuple)):\n",
    "               setattr(self, key, [DictObj(x) if isinstance(x, dict) else x for x in val])\n",
    "            else:\n",
    "               setattr(self, key, DictObj(val) if isinstance(val, dict) else val)"
   ]
  },
  {
   "cell_type": "code",
   "execution_count": 3,
   "id": "b1c898b8",
   "metadata": {},
   "outputs": [],
   "source": [
    "def timeToSeconds(time):\n",
    "    return sum(x * int(t) for x, t in zip([ 60, 1], time.split(\":\")))"
   ]
  },
  {
   "cell_type": "code",
   "execution_count": 5,
   "id": "9e525e43",
   "metadata": {},
   "outputs": [],
   "source": [
    "seconds_in_period = timeToSeconds('20:00')\n",
    "seconds_in_overtime = timeToSeconds('20:00')"
   ]
  },
  {
   "cell_type": "code",
   "execution_count": null,
   "id": "8110b897",
   "metadata": {},
   "outputs": [],
   "source": []
  }
 ],
 "metadata": {
  "kernelspec": {
   "display_name": "Python 3 (ipykernel)",
   "language": "python",
   "name": "python3"
  },
  "language_info": {
   "codemirror_mode": {
    "name": "ipython",
    "version": 3
   },
   "file_extension": ".py",
   "mimetype": "text/x-python",
   "name": "python",
   "nbconvert_exporter": "python",
   "pygments_lexer": "ipython3",
   "version": "3.9.13"
  }
 },
 "nbformat": 4,
 "nbformat_minor": 5
}
